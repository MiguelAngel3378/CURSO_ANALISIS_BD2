{
 "cells": [
  {
   "cell_type": "code",
   "execution_count": 7,
   "metadata": {},
   "outputs": [],
   "source": [
    "import numpy as np\n",
    "import pandas as pd\n",
    "import matplotlib.pyplot as plt"
   ]
  },
  {
   "cell_type": "code",
   "execution_count": 9,
   "metadata": {},
   "outputs": [
    {
     "name": "stderr",
     "output_type": "stream",
     "text": [
      "C:\\Users\\migue\\AppData\\Local\\Temp\\ipykernel_308\\820212315.py:1: DtypeWarning: Columns (0,13,15) have mixed types. Specify dtype option on import or set low_memory=False.\n",
      "  df = pd.read_csv('../../Grupo5_Analisis/Data/World Cities Database Population (OCT-2022).csv', sep = ';', na_filter=False)\n"
     ]
    },
    {
     "data": {
      "text/html": [
       "<div>\n",
       "<style scoped>\n",
       "    .dataframe tbody tr th:only-of-type {\n",
       "        vertical-align: middle;\n",
       "    }\n",
       "\n",
       "    .dataframe tbody tr th {\n",
       "        vertical-align: top;\n",
       "    }\n",
       "\n",
       "    .dataframe thead th {\n",
       "        text-align: right;\n",
       "    }\n",
       "</style>\n",
       "<table border=\"1\" class=\"dataframe\">\n",
       "  <thead>\n",
       "    <tr style=\"text-align: right;\">\n",
       "      <th></th>\n",
       "      <th>Geoname ID</th>\n",
       "      <th>Name</th>\n",
       "      <th>ASCII Name</th>\n",
       "      <th>Alternate Names</th>\n",
       "      <th>Feature Class</th>\n",
       "      <th>Feature Code</th>\n",
       "      <th>Country Code</th>\n",
       "      <th>Country name EN</th>\n",
       "      <th>Country Code 2</th>\n",
       "      <th>Admin1 Code</th>\n",
       "      <th>Admin2 Code</th>\n",
       "      <th>Admin3 Code</th>\n",
       "      <th>Admin4 Code</th>\n",
       "      <th>Population</th>\n",
       "      <th>Elevation</th>\n",
       "      <th>DIgital Elevation Model</th>\n",
       "      <th>Timezone</th>\n",
       "      <th>Modification date</th>\n",
       "      <th>LABEL EN</th>\n",
       "      <th>Coordinates,,,,,,,,,,,,,,,,,,,,,,,,,,,,,,,,,,,,,,,,,,,,,,,,,,,,,,,,,,,,,,,,,,,,,,,,,,,,,,,,,,,,,,,,,,,,,,,,,,,,,,,,,,,,,,,,,,,,,,,,,,,,,,,,,,,,,,,,,,,,,,,,,,,,,,,,,,,,,,,,,,,,,,,,,,,,,,,,,,,,,,,,,,,,,,,,,,,,,,,,,,,,,,,,,,,,,,,,,,,,,,,,,,,,,,,,,,,,,,,,,,,,,,,,,,,,,,,,,,,,,,,,,,,,,</th>\n",
       "    </tr>\n",
       "  </thead>\n",
       "  <tbody>\n",
       "    <tr>\n",
       "      <th>0</th>\n",
       "      <td>509184</td>\n",
       "      <td>Pizhanka</td>\n",
       "      <td>Pizhanka</td>\n",
       "      <td>Pizhanka,Pizjanka,Пижанка</td>\n",
       "      <td>P</td>\n",
       "      <td>PPL</td>\n",
       "      <td>RU</td>\n",
       "      <td>Russian Federation</td>\n",
       "      <td></td>\n",
       "      <td>33</td>\n",
       "      <td></td>\n",
       "      <td></td>\n",
       "      <td></td>\n",
       "      <td>3900</td>\n",
       "      <td></td>\n",
       "      <td>122</td>\n",
       "      <td>Europe/Kirov</td>\n",
       "      <td>2012-01-17</td>\n",
       "      <td>Russian Federation</td>\n",
       "      <td>57.46042,48.542,,,,,,,,,,,,,,,,,,,,,,,,,,,,,,,...</td>\n",
       "    </tr>\n",
       "    <tr>\n",
       "      <th>1</th>\n",
       "      <td>509273</td>\n",
       "      <td>Pitelino</td>\n",
       "      <td>Pitelino</td>\n",
       "      <td>Petelino,Pitelino,Пителино</td>\n",
       "      <td>P</td>\n",
       "      <td>PPL</td>\n",
       "      <td>RU</td>\n",
       "      <td>Russian Federation</td>\n",
       "      <td></td>\n",
       "      <td>62</td>\n",
       "      <td></td>\n",
       "      <td></td>\n",
       "      <td></td>\n",
       "      <td>2355</td>\n",
       "      <td></td>\n",
       "      <td>120</td>\n",
       "      <td>Europe/Moscow</td>\n",
       "      <td>2012-01-17</td>\n",
       "      <td>Russian Federation</td>\n",
       "      <td>54.57768,41.81448,,,,,,,,,,,,,,,,,,,,,,,,,,,,,...</td>\n",
       "    </tr>\n",
       "    <tr>\n",
       "      <th>2</th>\n",
       "      <td>510139</td>\n",
       "      <td>Petro-Slavyanka</td>\n",
       "      <td>Petro-Slavyanka</td>\n",
       "      <td>Petro-Slav'anka,Petro-Slavjanka,Petro-Slavyank...</td>\n",
       "      <td>P</td>\n",
       "      <td>PPL</td>\n",
       "      <td>RU</td>\n",
       "      <td>Russian Federation</td>\n",
       "      <td></td>\n",
       "      <td>66</td>\n",
       "      <td></td>\n",
       "      <td></td>\n",
       "      <td></td>\n",
       "      <td>1308</td>\n",
       "      <td></td>\n",
       "      <td>17</td>\n",
       "      <td>Europe/Moscow</td>\n",
       "      <td>2016-12-20</td>\n",
       "      <td>Russian Federation</td>\n",
       "      <td>59.80222,30.50694,,,,,,,,,,,,,,,,,,,,,,,,,,,,,...</td>\n",
       "    </tr>\n",
       "    <tr>\n",
       "      <th>3</th>\n",
       "      <td>513051</td>\n",
       "      <td>Palkino</td>\n",
       "      <td>Palkino</td>\n",
       "      <td>Palkino,Палкино,Պալկինո</td>\n",
       "      <td>P</td>\n",
       "      <td>PPL</td>\n",
       "      <td>RU</td>\n",
       "      <td>Russian Federation</td>\n",
       "      <td></td>\n",
       "      <td>60</td>\n",
       "      <td></td>\n",
       "      <td></td>\n",
       "      <td></td>\n",
       "      <td>3112</td>\n",
       "      <td></td>\n",
       "      <td>67</td>\n",
       "      <td>Europe/Moscow</td>\n",
       "      <td>2012-01-17</td>\n",
       "      <td>Russian Federation</td>\n",
       "      <td>57.54089,28.01257,,,,,,,,,,,,,,,,,,,,,,,,,,,,,...</td>\n",
       "    </tr>\n",
       "    <tr>\n",
       "      <th>4</th>\n",
       "      <td>514906</td>\n",
       "      <td>Orlovka</td>\n",
       "      <td>Orlovka</td>\n",
       "      <td>Orlovka,Орловка</td>\n",
       "      <td>P</td>\n",
       "      <td>PPL</td>\n",
       "      <td>RU</td>\n",
       "      <td>Russian Federation</td>\n",
       "      <td></td>\n",
       "      <td>70</td>\n",
       "      <td></td>\n",
       "      <td></td>\n",
       "      <td></td>\n",
       "      <td>3236</td>\n",
       "      <td></td>\n",
       "      <td>115</td>\n",
       "      <td>Europe/Moscow</td>\n",
       "      <td>2012-01-17</td>\n",
       "      <td>Russian Federation</td>\n",
       "      <td>44.69139,44.17444,,,,,,,,,,,,,,,,,,,,,,,,,,,,,...</td>\n",
       "    </tr>\n",
       "  </tbody>\n",
       "</table>\n",
       "</div>"
      ],
      "text/plain": [
       "  Geoname ID             Name       ASCII Name  \\\n",
       "0     509184         Pizhanka         Pizhanka   \n",
       "1     509273         Pitelino         Pitelino   \n",
       "2     510139  Petro-Slavyanka  Petro-Slavyanka   \n",
       "3     513051          Palkino          Palkino   \n",
       "4     514906          Orlovka          Orlovka   \n",
       "\n",
       "                                     Alternate Names Feature Class  \\\n",
       "0                          Pizhanka,Pizjanka,Пижанка             P   \n",
       "1                         Petelino,Pitelino,Пителино             P   \n",
       "2  Petro-Slav'anka,Petro-Slavjanka,Petro-Slavyank...             P   \n",
       "3                            Palkino,Палкино,Պալկինո             P   \n",
       "4                                    Orlovka,Орловка             P   \n",
       "\n",
       "  Feature Code Country Code     Country name EN Country Code 2 Admin1 Code  \\\n",
       "0          PPL           RU  Russian Federation                         33   \n",
       "1          PPL           RU  Russian Federation                         62   \n",
       "2          PPL           RU  Russian Federation                         66   \n",
       "3          PPL           RU  Russian Federation                         60   \n",
       "4          PPL           RU  Russian Federation                         70   \n",
       "\n",
       "  Admin2 Code Admin3 Code Admin4 Code Population Elevation  \\\n",
       "0                                           3900             \n",
       "1                                           2355             \n",
       "2                                           1308             \n",
       "3                                           3112             \n",
       "4                                           3236             \n",
       "\n",
       "  DIgital Elevation Model       Timezone Modification date  \\\n",
       "0                     122   Europe/Kirov        2012-01-17   \n",
       "1                     120  Europe/Moscow        2012-01-17   \n",
       "2                      17  Europe/Moscow        2016-12-20   \n",
       "3                      67  Europe/Moscow        2012-01-17   \n",
       "4                     115  Europe/Moscow        2012-01-17   \n",
       "\n",
       "             LABEL EN  \\\n",
       "0  Russian Federation   \n",
       "1  Russian Federation   \n",
       "2  Russian Federation   \n",
       "3  Russian Federation   \n",
       "4  Russian Federation   \n",
       "\n",
       "  Coordinates,,,,,,,,,,,,,,,,,,,,,,,,,,,,,,,,,,,,,,,,,,,,,,,,,,,,,,,,,,,,,,,,,,,,,,,,,,,,,,,,,,,,,,,,,,,,,,,,,,,,,,,,,,,,,,,,,,,,,,,,,,,,,,,,,,,,,,,,,,,,,,,,,,,,,,,,,,,,,,,,,,,,,,,,,,,,,,,,,,,,,,,,,,,,,,,,,,,,,,,,,,,,,,,,,,,,,,,,,,,,,,,,,,,,,,,,,,,,,,,,,,,,,,,,,,,,,,,,,,,,,,,,,,,,,  \n",
       "0  57.46042,48.542,,,,,,,,,,,,,,,,,,,,,,,,,,,,,,,...                                                                                                                                                                                                                                        \n",
       "1  54.57768,41.81448,,,,,,,,,,,,,,,,,,,,,,,,,,,,,...                                                                                                                                                                                                                                        \n",
       "2  59.80222,30.50694,,,,,,,,,,,,,,,,,,,,,,,,,,,,,...                                                                                                                                                                                                                                        \n",
       "3  57.54089,28.01257,,,,,,,,,,,,,,,,,,,,,,,,,,,,,...                                                                                                                                                                                                                                        \n",
       "4  44.69139,44.17444,,,,,,,,,,,,,,,,,,,,,,,,,,,,,...                                                                                                                                                                                                                                        "
      ]
     },
     "execution_count": 9,
     "metadata": {},
     "output_type": "execute_result"
    }
   ],
   "source": [
    "df = pd.read_csv('../../Grupo5_Analisis/Data/World Cities Database Population (OCT-2022).csv', sep = ';', na_filter=False)\n",
    "df.head(5)\n"
   ]
  },
  {
   "cell_type": "code",
   "execution_count": 10,
   "metadata": {},
   "outputs": [
    {
     "data": {
      "text/html": [
       "<div>\n",
       "<style scoped>\n",
       "    .dataframe tbody tr th:only-of-type {\n",
       "        vertical-align: middle;\n",
       "    }\n",
       "\n",
       "    .dataframe tbody tr th {\n",
       "        vertical-align: top;\n",
       "    }\n",
       "\n",
       "    .dataframe thead th {\n",
       "        text-align: right;\n",
       "    }\n",
       "</style>\n",
       "<table border=\"1\" class=\"dataframe\">\n",
       "  <thead>\n",
       "    <tr style=\"text-align: right;\">\n",
       "      <th></th>\n",
       "      <th>Geoname ID</th>\n",
       "      <th>Name</th>\n",
       "      <th>ASCII Name</th>\n",
       "      <th>Alternate Names</th>\n",
       "      <th>Feature Class</th>\n",
       "      <th>Feature Code</th>\n",
       "      <th>Country Code</th>\n",
       "      <th>Country name EN</th>\n",
       "      <th>Country Code 2</th>\n",
       "      <th>Admin1 Code</th>\n",
       "      <th>Admin2 Code</th>\n",
       "      <th>Admin3 Code</th>\n",
       "      <th>Admin4 Code</th>\n",
       "      <th>Population</th>\n",
       "      <th>Elevation</th>\n",
       "      <th>DIgital Elevation Model</th>\n",
       "      <th>Timezone</th>\n",
       "      <th>Modification date</th>\n",
       "      <th>LABEL EN</th>\n",
       "      <th>Coordinates,,,,,,,,,,,,,,,,,,,,,,,,,,,,,,,,,,,,,,,,,,,,,,,,,,,,,,,,,,,,,,,,,,,,,,,,,,,,,,,,,,,,,,,,,,,,,,,,,,,,,,,,,,,,,,,,,,,,,,,,,,,,,,,,,,,,,,,,,,,,,,,,,,,,,,,,,,,,,,,,,,,,,,,,,,,,,,,,,,,,,,,,,,,,,,,,,,,,,,,,,,,,,,,,,,,,,,,,,,,,,,,,,,,,,,,,,,,,,,,,,,,,,,,,,,,,,,,,,,,,,,,,,,,,,</th>\n",
       "    </tr>\n",
       "  </thead>\n",
       "  <tbody>\n",
       "    <tr>\n",
       "      <th>count</th>\n",
       "      <td>140634</td>\n",
       "      <td>140634</td>\n",
       "      <td>140634</td>\n",
       "      <td>140634</td>\n",
       "      <td>140634</td>\n",
       "      <td>140634</td>\n",
       "      <td>140634</td>\n",
       "      <td>140634</td>\n",
       "      <td>140634</td>\n",
       "      <td>140634</td>\n",
       "      <td>140634</td>\n",
       "      <td>140634</td>\n",
       "      <td>140634</td>\n",
       "      <td>140634</td>\n",
       "      <td>140634</td>\n",
       "      <td>140634</td>\n",
       "      <td>140634</td>\n",
       "      <td>140634</td>\n",
       "      <td>140634</td>\n",
       "      <td>140634</td>\n",
       "    </tr>\n",
       "    <tr>\n",
       "      <th>unique</th>\n",
       "      <td>140634</td>\n",
       "      <td>123647</td>\n",
       "      <td>122923</td>\n",
       "      <td>113140</td>\n",
       "      <td>3</td>\n",
       "      <td>20</td>\n",
       "      <td>248</td>\n",
       "      <td>231</td>\n",
       "      <td>108</td>\n",
       "      <td>641</td>\n",
       "      <td>14605</td>\n",
       "      <td>35539</td>\n",
       "      <td>17657</td>\n",
       "      <td>44748</td>\n",
       "      <td>1813</td>\n",
       "      <td>6343</td>\n",
       "      <td>397</td>\n",
       "      <td>3726</td>\n",
       "      <td>230</td>\n",
       "      <td>140616</td>\n",
       "    </tr>\n",
       "    <tr>\n",
       "      <th>top</th>\n",
       "      <td>509184</td>\n",
       "      <td>San Francisco</td>\n",
       "      <td>San Francisco</td>\n",
       "      <td></td>\n",
       "      <td>P</td>\n",
       "      <td>PPL</td>\n",
       "      <td>US</td>\n",
       "      <td>United States</td>\n",
       "      <td></td>\n",
       "      <td>02</td>\n",
       "      <td></td>\n",
       "      <td></td>\n",
       "      <td></td>\n",
       "      <td>0</td>\n",
       "      <td></td>\n",
       "      <td>8</td>\n",
       "      <td>Europe/Rome</td>\n",
       "      <td>2017-05-23</td>\n",
       "      <td>United States</td>\n",
       "      <td>47.11667,27.18333,,,,,,,,,,,,,,,,,,,,,,,,,,,,,...</td>\n",
       "    </tr>\n",
       "    <tr>\n",
       "      <th>freq</th>\n",
       "      <td>1</td>\n",
       "      <td>44</td>\n",
       "      <td>44</td>\n",
       "      <td>24391</td>\n",
       "      <td>140632</td>\n",
       "      <td>76841</td>\n",
       "      <td>16735</td>\n",
       "      <td>16735</td>\n",
       "      <td>136430</td>\n",
       "      <td>6093</td>\n",
       "      <td>21327</td>\n",
       "      <td>72281</td>\n",
       "      <td>120094</td>\n",
       "      <td>9220</td>\n",
       "      <td>113010</td>\n",
       "      <td>707</td>\n",
       "      <td>9947</td>\n",
       "      <td>7829</td>\n",
       "      <td>16735</td>\n",
       "      <td>2</td>\n",
       "    </tr>\n",
       "  </tbody>\n",
       "</table>\n",
       "</div>"
      ],
      "text/plain": [
       "        Geoname ID           Name     ASCII Name Alternate Names  \\\n",
       "count       140634         140634         140634          140634   \n",
       "unique      140634         123647         122923          113140   \n",
       "top         509184  San Francisco  San Francisco                   \n",
       "freq             1             44             44           24391   \n",
       "\n",
       "       Feature Class Feature Code Country Code Country name EN Country Code 2  \\\n",
       "count         140634       140634       140634          140634         140634   \n",
       "unique             3           20          248             231            108   \n",
       "top                P          PPL           US   United States                  \n",
       "freq          140632        76841        16735           16735         136430   \n",
       "\n",
       "       Admin1 Code Admin2 Code Admin3 Code Admin4 Code  Population Elevation  \\\n",
       "count       140634      140634      140634      140634      140634    140634   \n",
       "unique         641       14605       35539       17657       44748      1813   \n",
       "top             02                                               0             \n",
       "freq          6093       21327       72281      120094        9220    113010   \n",
       "\n",
       "        DIgital Elevation Model     Timezone Modification date       LABEL EN  \\\n",
       "count                    140634       140634            140634         140634   \n",
       "unique                     6343          397              3726            230   \n",
       "top                           8  Europe/Rome        2017-05-23  United States   \n",
       "freq                        707         9947              7829          16735   \n",
       "\n",
       "       Coordinates,,,,,,,,,,,,,,,,,,,,,,,,,,,,,,,,,,,,,,,,,,,,,,,,,,,,,,,,,,,,,,,,,,,,,,,,,,,,,,,,,,,,,,,,,,,,,,,,,,,,,,,,,,,,,,,,,,,,,,,,,,,,,,,,,,,,,,,,,,,,,,,,,,,,,,,,,,,,,,,,,,,,,,,,,,,,,,,,,,,,,,,,,,,,,,,,,,,,,,,,,,,,,,,,,,,,,,,,,,,,,,,,,,,,,,,,,,,,,,,,,,,,,,,,,,,,,,,,,,,,,,,,,,,,,  \n",
       "count                                              140634                                                                                                                                                                                                                                        \n",
       "unique                                             140616                                                                                                                                                                                                                                        \n",
       "top     47.11667,27.18333,,,,,,,,,,,,,,,,,,,,,,,,,,,,,...                                                                                                                                                                                                                                        \n",
       "freq                                                    2                                                                                                                                                                                                                                        "
      ]
     },
     "execution_count": 10,
     "metadata": {},
     "output_type": "execute_result"
    }
   ],
   "source": [
    "df.describe()"
   ]
  },
  {
   "cell_type": "code",
   "execution_count": 11,
   "metadata": {},
   "outputs": [
    {
     "name": "stdout",
     "output_type": "stream",
     "text": [
      "<class 'pandas.core.frame.DataFrame'>\n",
      "RangeIndex: 140634 entries, 0 to 140633\n",
      "Data columns (total 20 columns):\n",
      " #   Column                                                                                                                                                                                                                                                                                    Non-Null Count   Dtype \n",
      "---  ------                                                                                                                                                                                                                                                                                    --------------   ----- \n",
      " 0   Geoname ID                                                                                                                                                                                                                                                                                140634 non-null  object\n",
      " 1   Name                                                                                                                                                                                                                                                                                      140634 non-null  object\n",
      " 2   ASCII Name                                                                                                                                                                                                                                                                                140634 non-null  object\n",
      " 3   Alternate Names                                                                                                                                                                                                                                                                           140634 non-null  object\n",
      " 4   Feature Class                                                                                                                                                                                                                                                                             140634 non-null  object\n",
      " 5   Feature Code                                                                                                                                                                                                                                                                              140634 non-null  object\n",
      " 6   Country Code                                                                                                                                                                                                                                                                              140634 non-null  object\n",
      " 7   Country name EN                                                                                                                                                                                                                                                                           140634 non-null  object\n",
      " 8   Country Code 2                                                                                                                                                                                                                                                                            140634 non-null  object\n",
      " 9   Admin1 Code                                                                                                                                                                                                                                                                               140634 non-null  object\n",
      " 10  Admin2 Code                                                                                                                                                                                                                                                                               140634 non-null  object\n",
      " 11  Admin3 Code                                                                                                                                                                                                                                                                               140634 non-null  object\n",
      " 12  Admin4 Code                                                                                                                                                                                                                                                                               140634 non-null  object\n",
      " 13  Population                                                                                                                                                                                                                                                                                140634 non-null  object\n",
      " 14  Elevation                                                                                                                                                                                                                                                                                 140634 non-null  object\n",
      " 15  DIgital Elevation Model                                                                                                                                                                                                                                                                   140634 non-null  object\n",
      " 16  Timezone                                                                                                                                                                                                                                                                                  140634 non-null  object\n",
      " 17  Modification date                                                                                                                                                                                                                                                                         140634 non-null  object\n",
      " 18  LABEL EN                                                                                                                                                                                                                                                                                  140634 non-null  object\n",
      " 19  Coordinates,,,,,,,,,,,,,,,,,,,,,,,,,,,,,,,,,,,,,,,,,,,,,,,,,,,,,,,,,,,,,,,,,,,,,,,,,,,,,,,,,,,,,,,,,,,,,,,,,,,,,,,,,,,,,,,,,,,,,,,,,,,,,,,,,,,,,,,,,,,,,,,,,,,,,,,,,,,,,,,,,,,,,,,,,,,,,,,,,,,,,,,,,,,,,,,,,,,,,,,,,,,,,,,,,,,,,,,,,,,,,,,,,,,,,,,,,,,,,,,,,,,,,,,,,,,,,,,,,,,,,,,,,,,,,  140634 non-null  object\n",
      "dtypes: object(20)\n",
      "memory usage: 21.5+ MB\n"
     ]
    }
   ],
   "source": [
    "df.info()"
   ]
  },
  {
   "attachments": {},
   "cell_type": "markdown",
   "metadata": {},
   "source": [
    "Let's start. There are a lot of commas in the coordinates column. First, we rename the column, and, we split the string by commas and take the first two elements"
   ]
  },
  {
   "cell_type": "code",
   "execution_count": null,
   "metadata": {},
   "outputs": [],
   "source": [
    "column_names = list(df.columns)\n",
    "column_names[-1] = 'Coordinates'\n",
    "df.columns = column_names\n",
    "df['Coordinates'] = df['Coordinates'].apply(lambda x: str(x).split(',')[:2])"
   ]
  },
  {
   "attachments": {},
   "cell_type": "markdown",
   "metadata": {},
   "source": [
    "Now we can convert the coordinates to floats"
   ]
  },
  {
   "cell_type": "code",
   "execution_count": null,
   "metadata": {},
   "outputs": [
    {
     "data": {
      "text/plain": [
       "0           [57.46042, 48.542]\n",
       "1         [54.57768, 41.81448]\n",
       "2         [59.80222, 30.50694]\n",
       "3         [57.54089, 28.01257]\n",
       "4         [44.69139, 44.17444]\n",
       "                  ...         \n",
       "140629    [45.72176, 33.23689]\n",
       "140630    [48.14431, 30.82103]\n",
       "140631    [44.93845, 35.15834]\n",
       "140632    [51.50208, 23.93806]\n",
       "140633    [46.30452, 29.01519]\n",
       "Name: Coordinates, Length: 140634, dtype: object"
      ]
     },
     "execution_count": 7,
     "metadata": {},
     "output_type": "execute_result"
    }
   ],
   "source": [
    "df['Coordinates']"
   ]
  },
  {
   "cell_type": "code",
   "execution_count": null,
   "metadata": {},
   "outputs": [],
   "source": [
    "df['Latitude'] = df['Coordinates'].apply(lambda x: x[0])\n",
    "df['Longitude'] = df['Coordinates'].apply(lambda x: x[-1])"
   ]
  },
  {
   "attachments": {},
   "cell_type": "markdown",
   "metadata": {},
   "source": [
    "and convert the columns to numeric, the errors = 'coerce' is used to fill the values that are not numbers with NaN"
   ]
  },
  {
   "cell_type": "code",
   "execution_count": null,
   "metadata": {},
   "outputs": [],
   "source": [
    "df['Latitude'] = pd.to_numeric(df['Latitude'], errors='coerce')\n",
    "df['Longitude'] = pd.to_numeric(df['Longitude'], errors='coerce')"
   ]
  },
  {
   "attachments": {},
   "cell_type": "markdown",
   "metadata": {},
   "source": [
    "Another problem is that Namibia has a country code of NA, which is the same as NaN. We can replace the NaN values with NA string"
   ]
  },
  {
   "cell_type": "code",
   "execution_count": null,
   "metadata": {},
   "outputs": [],
   "source": [
    "df['Country Code'] = df['Country Code'].fillna('NA')"
   ]
  },
  {
   "attachments": {},
   "cell_type": "markdown",
   "metadata": {},
   "source": [
    "Now we can convert the population and elevation columns to numeric"
   ]
  },
  {
   "cell_type": "code",
   "execution_count": null,
   "metadata": {},
   "outputs": [],
   "source": [
    "df['Population'] = df['Population'].apply(lambda x: pd.to_numeric(x, errors = 'coerce'))\n",
    "df['Elevation'] = df['Elevation'].apply(lambda x: pd.to_numeric(x,  errors = 'coerce'))"
   ]
  },
  {
   "attachments": {},
   "cell_type": "markdown",
   "metadata": {},
   "source": [
    "Now we can drop the columns that we don't need"
   ]
  },
  {
   "cell_type": "code",
   "execution_count": null,
   "metadata": {},
   "outputs": [],
   "source": [
    "df = df.iloc[:,[1,2,3,6,7,-9,-8,-6,-4,-2,-1]]"
   ]
  },
  {
   "attachments": {},
   "cell_type": "markdown",
   "metadata": {},
   "source": [
    "Let's take a look at the missing values"
   ]
  },
  {
   "cell_type": "code",
   "execution_count": null,
   "metadata": {},
   "outputs": [
    {
     "data": {
      "text/plain": [
       "Name                    0\n",
       "ASCII Name              0\n",
       "Alternate Names         0\n",
       "Country Code            0\n",
       "Country name EN         0\n",
       "Population              1\n",
       "Elevation          113012\n",
       "Timezone                0\n",
       "LABEL EN                0\n",
       "Latitude                2\n",
       "Longitude               2\n",
       "dtype: int64"
      ]
     },
     "execution_count": 13,
     "metadata": {},
     "output_type": "execute_result"
    }
   ],
   "source": [
    "df.isna().sum()"
   ]
  },
  {
   "attachments": {},
   "cell_type": "markdown",
   "metadata": {},
   "source": [
    "We can see that there are a lot of missing values in the elevation column. Let's delete it"
   ]
  },
  {
   "cell_type": "code",
   "execution_count": null,
   "metadata": {},
   "outputs": [],
   "source": [
    "df = df.drop('Elevation', axis = 1)"
   ]
  },
  {
   "attachments": {},
   "cell_type": "markdown",
   "metadata": {},
   "source": [
    "Now we can drop the rows with missing values"
   ]
  },
  {
   "cell_type": "code",
   "execution_count": null,
   "metadata": {},
   "outputs": [],
   "source": [
    "df = df.dropna()"
   ]
  },
  {
   "attachments": {},
   "cell_type": "markdown",
   "metadata": {},
   "source": [
    "Finally, we can save the dataframe to a csv file"
   ]
  },
  {
   "attachments": {},
   "cell_type": "markdown",
   "metadata": {},
   "source": [
    "FINAL RESULT"
   ]
  },
  {
   "cell_type": "code",
   "execution_count": null,
   "metadata": {},
   "outputs": [
    {
     "data": {
      "text/html": [
       "<div>\n",
       "<style scoped>\n",
       "    .dataframe tbody tr th:only-of-type {\n",
       "        vertical-align: middle;\n",
       "    }\n",
       "\n",
       "    .dataframe tbody tr th {\n",
       "        vertical-align: top;\n",
       "    }\n",
       "\n",
       "    .dataframe thead th {\n",
       "        text-align: right;\n",
       "    }\n",
       "</style>\n",
       "<table border=\"1\" class=\"dataframe\">\n",
       "  <thead>\n",
       "    <tr style=\"text-align: right;\">\n",
       "      <th></th>\n",
       "      <th>Name</th>\n",
       "      <th>ASCII Name</th>\n",
       "      <th>Alternate Names</th>\n",
       "      <th>Country Code</th>\n",
       "      <th>Country name EN</th>\n",
       "      <th>Population</th>\n",
       "      <th>Timezone</th>\n",
       "      <th>LABEL EN</th>\n",
       "      <th>Latitude</th>\n",
       "      <th>Longitude</th>\n",
       "    </tr>\n",
       "  </thead>\n",
       "  <tbody>\n",
       "    <tr>\n",
       "      <th>0</th>\n",
       "      <td>Pizhanka</td>\n",
       "      <td>Pizhanka</td>\n",
       "      <td>Pizhanka,Pizjanka,Пижанка</td>\n",
       "      <td>RU</td>\n",
       "      <td>Russian Federation</td>\n",
       "      <td>3900.0</td>\n",
       "      <td>Europe/Kirov</td>\n",
       "      <td>Russian Federation</td>\n",
       "      <td>57.46042</td>\n",
       "      <td>48.54200</td>\n",
       "    </tr>\n",
       "    <tr>\n",
       "      <th>1</th>\n",
       "      <td>Pitelino</td>\n",
       "      <td>Pitelino</td>\n",
       "      <td>Petelino,Pitelino,Пителино</td>\n",
       "      <td>RU</td>\n",
       "      <td>Russian Federation</td>\n",
       "      <td>2355.0</td>\n",
       "      <td>Europe/Moscow</td>\n",
       "      <td>Russian Federation</td>\n",
       "      <td>54.57768</td>\n",
       "      <td>41.81448</td>\n",
       "    </tr>\n",
       "    <tr>\n",
       "      <th>2</th>\n",
       "      <td>Petro-Slavyanka</td>\n",
       "      <td>Petro-Slavyanka</td>\n",
       "      <td>Petro-Slav'anka,Petro-Slavjanka,Petro-Slavyank...</td>\n",
       "      <td>RU</td>\n",
       "      <td>Russian Federation</td>\n",
       "      <td>1308.0</td>\n",
       "      <td>Europe/Moscow</td>\n",
       "      <td>Russian Federation</td>\n",
       "      <td>59.80222</td>\n",
       "      <td>30.50694</td>\n",
       "    </tr>\n",
       "    <tr>\n",
       "      <th>3</th>\n",
       "      <td>Palkino</td>\n",
       "      <td>Palkino</td>\n",
       "      <td>Palkino,Палкино,Պալկինո</td>\n",
       "      <td>RU</td>\n",
       "      <td>Russian Federation</td>\n",
       "      <td>3112.0</td>\n",
       "      <td>Europe/Moscow</td>\n",
       "      <td>Russian Federation</td>\n",
       "      <td>57.54089</td>\n",
       "      <td>28.01257</td>\n",
       "    </tr>\n",
       "    <tr>\n",
       "      <th>4</th>\n",
       "      <td>Orlovka</td>\n",
       "      <td>Orlovka</td>\n",
       "      <td>Orlovka,Орловка</td>\n",
       "      <td>RU</td>\n",
       "      <td>Russian Federation</td>\n",
       "      <td>3236.0</td>\n",
       "      <td>Europe/Moscow</td>\n",
       "      <td>Russian Federation</td>\n",
       "      <td>44.69139</td>\n",
       "      <td>44.17444</td>\n",
       "    </tr>\n",
       "  </tbody>\n",
       "</table>\n",
       "</div>"
      ],
      "text/plain": [
       "              Name       ASCII Name   \n",
       "0         Pizhanka         Pizhanka  \\\n",
       "1         Pitelino         Pitelino   \n",
       "2  Petro-Slavyanka  Petro-Slavyanka   \n",
       "3          Palkino          Palkino   \n",
       "4          Orlovka          Orlovka   \n",
       "\n",
       "                                     Alternate Names Country Code   \n",
       "0                          Pizhanka,Pizjanka,Пижанка           RU  \\\n",
       "1                         Petelino,Pitelino,Пителино           RU   \n",
       "2  Petro-Slav'anka,Petro-Slavjanka,Petro-Slavyank...           RU   \n",
       "3                            Palkino,Палкино,Պալկինո           RU   \n",
       "4                                    Orlovka,Орловка           RU   \n",
       "\n",
       "      Country name EN  Population       Timezone            LABEL EN   \n",
       "0  Russian Federation      3900.0   Europe/Kirov  Russian Federation  \\\n",
       "1  Russian Federation      2355.0  Europe/Moscow  Russian Federation   \n",
       "2  Russian Federation      1308.0  Europe/Moscow  Russian Federation   \n",
       "3  Russian Federation      3112.0  Europe/Moscow  Russian Federation   \n",
       "4  Russian Federation      3236.0  Europe/Moscow  Russian Federation   \n",
       "\n",
       "   Latitude  Longitude  \n",
       "0  57.46042   48.54200  \n",
       "1  54.57768   41.81448  \n",
       "2  59.80222   30.50694  \n",
       "3  57.54089   28.01257  \n",
       "4  44.69139   44.17444  "
      ]
     },
     "execution_count": 16,
     "metadata": {},
     "output_type": "execute_result"
    }
   ],
   "source": [
    "df.head()"
   ]
  },
  {
   "attachments": {},
   "cell_type": "markdown",
   "metadata": {},
   "source": [
    "Now the data is clean and ready for being used in visualizations."
   ]
  }
 ],
 "metadata": {
  "kernelspec": {
   "display_name": "Python 3",
   "language": "python",
   "name": "python3"
  },
  "language_info": {
   "codemirror_mode": {
    "name": "ipython",
    "version": 3
   },
   "file_extension": ".py",
   "mimetype": "text/x-python",
   "name": "python",
   "nbconvert_exporter": "python",
   "pygments_lexer": "ipython3",
   "version": "3.10.11"
  },
  "orig_nbformat": 4
 },
 "nbformat": 4,
 "nbformat_minor": 2
}
