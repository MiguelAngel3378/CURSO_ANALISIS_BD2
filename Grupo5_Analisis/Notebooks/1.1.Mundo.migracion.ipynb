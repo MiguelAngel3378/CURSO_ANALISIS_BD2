{
 "cells": [
  {
   "cell_type": "code",
   "execution_count": 1,
   "metadata": {},
   "outputs": [],
   "source": [
    "import pandas as pd\n",
    "import numpy as np\n",
    "import matplotlib.pyplot as plt\n",
    "import seaborn as sns\n",
    "import plotly.express as px"
   ]
  },
  {
   "cell_type": "code",
   "execution_count": 3,
   "metadata": {},
   "outputs": [
    {
     "data": {
      "text/html": [
       "<div>\n",
       "<style scoped>\n",
       "    .dataframe tbody tr th:only-of-type {\n",
       "        vertical-align: middle;\n",
       "    }\n",
       "\n",
       "    .dataframe tbody tr th {\n",
       "        vertical-align: top;\n",
       "    }\n",
       "\n",
       "    .dataframe thead th {\n",
       "        text-align: right;\n",
       "    }\n",
       "</style>\n",
       "<table border=\"1\" class=\"dataframe\">\n",
       "  <thead>\n",
       "    <tr style=\"text-align: right;\">\n",
       "      <th></th>\n",
       "      <th>Country of residence</th>\n",
       "      <th>CB Africa</th>\n",
       "      <th>CB Asia</th>\n",
       "      <th>CB Europe</th>\n",
       "      <th>CB North America</th>\n",
       "      <th>CB Oceania</th>\n",
       "      <th>CB South and Central America and Caribbean</th>\n",
       "      <th>CB Other and unknown places of birth</th>\n",
       "      <th>CB All countries of birth</th>\n",
       "    </tr>\n",
       "  </thead>\n",
       "  <tbody>\n",
       "    <tr>\n",
       "      <th>0</th>\n",
       "      <td>Australia</td>\n",
       "      <td>166094</td>\n",
       "      <td>1043140</td>\n",
       "      <td>2098131</td>\n",
       "      <td>70356</td>\n",
       "      <td>10658379</td>\n",
       "      <td>74278</td>\n",
       "      <td>746396</td>\n",
       "      <td>14856774</td>\n",
       "    </tr>\n",
       "    <tr>\n",
       "      <th>1</th>\n",
       "      <td>Austria</td>\n",
       "      <td>22397</td>\n",
       "      <td>59036</td>\n",
       "      <td>6578090</td>\n",
       "      <td>7625</td>\n",
       "      <td>1770</td>\n",
       "      <td>9731</td>\n",
       "      <td>795</td>\n",
       "      <td>6679444</td>\n",
       "    </tr>\n",
       "    <tr>\n",
       "      <th>2</th>\n",
       "      <td>Belgium</td>\n",
       "      <td>232434</td>\n",
       "      <td>62280</td>\n",
       "      <td>8160885</td>\n",
       "      <td>14141</td>\n",
       "      <td>1259</td>\n",
       "      <td>19992</td>\n",
       "      <td>538</td>\n",
       "      <td>8491529</td>\n",
       "    </tr>\n",
       "    <tr>\n",
       "      <th>3</th>\n",
       "      <td>Canada</td>\n",
       "      <td>277500</td>\n",
       "      <td>1886860</td>\n",
       "      <td>2306685</td>\n",
       "      <td>18791935</td>\n",
       "      <td>50010</td>\n",
       "      <td>587470</td>\n",
       "      <td>325</td>\n",
       "      <td>23900785</td>\n",
       "    </tr>\n",
       "    <tr>\n",
       "      <th>4</th>\n",
       "      <td>Czech Republic</td>\n",
       "      <td>1787</td>\n",
       "      <td>20690</td>\n",
       "      <td>8369031</td>\n",
       "      <td>1983</td>\n",
       "      <td>296</td>\n",
       "      <td>1446</td>\n",
       "      <td>176482</td>\n",
       "      <td>8571715</td>\n",
       "    </tr>\n",
       "  </tbody>\n",
       "</table>\n",
       "</div>"
      ],
      "text/plain": [
       "  Country of residence  CB Africa   CB Asia  CB Europe   CB North America  \\\n",
       "0            Australia     166094   1043140    2098131              70356   \n",
       "1              Austria      22397     59036    6578090               7625   \n",
       "2              Belgium     232434     62280    8160885              14141   \n",
       "3               Canada     277500   1886860    2306685           18791935   \n",
       "4       Czech Republic       1787     20690    8369031               1983   \n",
       "\n",
       "   CB Oceania CB South and Central America and Caribbean  \\\n",
       "0    10658379                                      74278   \n",
       "1        1770                                       9731   \n",
       "2        1259                                      19992   \n",
       "3       50010                                     587470   \n",
       "4         296                                       1446   \n",
       "\n",
       "  CB Other and unknown places of birth   CB All countries of birth   \n",
       "0                               746396                     14856774  \n",
       "1                                  795                      6679444  \n",
       "2                                  538                      8491529  \n",
       "3                                  325                     23900785  \n",
       "4                               176482                      8571715  "
      ]
     },
     "execution_count": 3,
     "metadata": {},
     "output_type": "execute_result"
    }
   ],
   "source": [
    "df = pd.read_csv('../../Grupo5_Analisis/Data/USAR/1.1.Mundo_migracion.csv', delimiter=';')\n",
    "df.head()"
   ]
  },
  {
   "cell_type": "code",
   "execution_count": 4,
   "metadata": {},
   "outputs": [
    {
     "name": "stdout",
     "output_type": "stream",
     "text": [
      "<class 'pandas.core.frame.DataFrame'>\n",
      "RangeIndex: 28 entries, 0 to 27\n",
      "Data columns (total 9 columns):\n",
      " #   Column                                      Non-Null Count  Dtype \n",
      "---  ------                                      --------------  ----- \n",
      " 0   Country of residence                        28 non-null     object\n",
      " 1   CB Africa                                   28 non-null     int64 \n",
      " 2    CB Asia                                    28 non-null     int64 \n",
      " 3   CB Europe                                   28 non-null     int64 \n",
      " 4    CB North America                           28 non-null     int64 \n",
      " 5   CB Oceania                                  28 non-null     int64 \n",
      " 6   CB South and Central America and Caribbean  28 non-null     object\n",
      " 7   CB Other and unknown places of birth        28 non-null     object\n",
      " 8    CB All countries of birth                  28 non-null     int64 \n",
      "dtypes: int64(6), object(3)\n",
      "memory usage: 2.1+ KB\n"
     ]
    }
   ],
   "source": [
    "df.info()"
   ]
  },
  {
   "cell_type": "code",
   "execution_count": 5,
   "metadata": {},
   "outputs": [
    {
     "data": {
      "text/plain": [
       "Country of residence                          0\n",
       "CB Africa                                     0\n",
       " CB Asia                                      0\n",
       "CB Europe                                     0\n",
       " CB North America                             0\n",
       "CB Oceania                                    0\n",
       "CB South and Central America and Caribbean    0\n",
       "CB Other and unknown places of birth          0\n",
       " CB All countries of birth                    0\n",
       "dtype: int64"
      ]
     },
     "execution_count": 5,
     "metadata": {},
     "output_type": "execute_result"
    }
   ],
   "source": [
    "df.isnull().sum()"
   ]
  },
  {
   "cell_type": "code",
   "execution_count": 6,
   "metadata": {},
   "outputs": [
    {
     "data": {
      "text/plain": [
       "(28, 9)"
      ]
     },
     "execution_count": 6,
     "metadata": {},
     "output_type": "execute_result"
    }
   ],
   "source": [
    "df.shape"
   ]
  }
 ],
 "metadata": {
  "kernelspec": {
   "display_name": "Python 3",
   "language": "python",
   "name": "python3"
  },
  "language_info": {
   "codemirror_mode": {
    "name": "ipython",
    "version": 3
   },
   "file_extension": ".py",
   "mimetype": "text/x-python",
   "name": "python",
   "nbconvert_exporter": "python",
   "pygments_lexer": "ipython3",
   "version": "3.10.11"
  },
  "orig_nbformat": 4
 },
 "nbformat": 4,
 "nbformat_minor": 2
}
