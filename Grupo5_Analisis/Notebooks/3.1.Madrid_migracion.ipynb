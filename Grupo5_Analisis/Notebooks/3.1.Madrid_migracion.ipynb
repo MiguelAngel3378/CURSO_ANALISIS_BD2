{
 "cells": [
  {
   "cell_type": "code",
   "execution_count": 1,
   "metadata": {},
   "outputs": [],
   "source": [
    "import pandas as pd\n",
    "import numpy as np\n",
    "import matplotlib.pyplot as plt\n",
    "import seaborn as sns\n",
    "import plotly.express as px"
   ]
  },
  {
   "cell_type": "code",
   "execution_count": 2,
   "metadata": {},
   "outputs": [
    {
     "data": {
      "text/html": [
       "<div>\n",
       "<style scoped>\n",
       "    .dataframe tbody tr th:only-of-type {\n",
       "        vertical-align: middle;\n",
       "    }\n",
       "\n",
       "    .dataframe tbody tr th {\n",
       "        vertical-align: top;\n",
       "    }\n",
       "\n",
       "    .dataframe thead th {\n",
       "        text-align: right;\n",
       "    }\n",
       "</style>\n",
       "<table border=\"1\" class=\"dataframe\">\n",
       "  <thead>\n",
       "    <tr style=\"text-align: right;\">\n",
       "      <th></th>\n",
       "      <th>municipio_codigo</th>\n",
       "      <th>municipio_nombre</th>\n",
       "      <th>distrito_codigo</th>\n",
       "      <th>distrito_nombre</th>\n",
       "      <th>barrio_codigo</th>\n",
       "      <th>barrio_nombre</th>\n",
       "      <th>sexo</th>\n",
       "      <th>nacionalidad</th>\n",
       "      <th>poblacion_empadronada</th>\n",
       "    </tr>\n",
       "  </thead>\n",
       "  <tbody>\n",
       "    <tr>\n",
       "      <th>0</th>\n",
       "      <td>79</td>\n",
       "      <td>Madrid</td>\n",
       "      <td>79601</td>\n",
       "      <td>Centro</td>\n",
       "      <td>796011</td>\n",
       "      <td>Palacio</td>\n",
       "      <td>Hombre</td>\n",
       "      <td>Africa</td>\n",
       "      <td>163</td>\n",
       "    </tr>\n",
       "    <tr>\n",
       "      <th>1</th>\n",
       "      <td>79</td>\n",
       "      <td>Madrid</td>\n",
       "      <td>79601</td>\n",
       "      <td>Centro</td>\n",
       "      <td>796011</td>\n",
       "      <td>Palacio</td>\n",
       "      <td>Hombre</td>\n",
       "      <td>América Central y del Caribe</td>\n",
       "      <td>83</td>\n",
       "    </tr>\n",
       "    <tr>\n",
       "      <th>2</th>\n",
       "      <td>79</td>\n",
       "      <td>Madrid</td>\n",
       "      <td>79601</td>\n",
       "      <td>Centro</td>\n",
       "      <td>796011</td>\n",
       "      <td>Palacio</td>\n",
       "      <td>Hombre</td>\n",
       "      <td>América del Norte</td>\n",
       "      <td>169</td>\n",
       "    </tr>\n",
       "    <tr>\n",
       "      <th>3</th>\n",
       "      <td>79</td>\n",
       "      <td>Madrid</td>\n",
       "      <td>79601</td>\n",
       "      <td>Centro</td>\n",
       "      <td>796011</td>\n",
       "      <td>Palacio</td>\n",
       "      <td>Hombre</td>\n",
       "      <td>América del Sur</td>\n",
       "      <td>384</td>\n",
       "    </tr>\n",
       "    <tr>\n",
       "      <th>4</th>\n",
       "      <td>79</td>\n",
       "      <td>Madrid</td>\n",
       "      <td>79601</td>\n",
       "      <td>Centro</td>\n",
       "      <td>796011</td>\n",
       "      <td>Palacio</td>\n",
       "      <td>Hombre</td>\n",
       "      <td>Apátridas</td>\n",
       "      <td>1</td>\n",
       "    </tr>\n",
       "  </tbody>\n",
       "</table>\n",
       "</div>"
      ],
      "text/plain": [
       "   municipio_codigo municipio_nombre  distrito_codigo distrito_nombre  \\\n",
       "0                79           Madrid            79601          Centro   \n",
       "1                79           Madrid            79601          Centro   \n",
       "2                79           Madrid            79601          Centro   \n",
       "3                79           Madrid            79601          Centro   \n",
       "4                79           Madrid            79601          Centro   \n",
       "\n",
       "   barrio_codigo barrio_nombre    sexo                  nacionalidad  \\\n",
       "0         796011       Palacio  Hombre                        Africa   \n",
       "1         796011       Palacio  Hombre  América Central y del Caribe   \n",
       "2         796011       Palacio  Hombre             América del Norte   \n",
       "3         796011       Palacio  Hombre               América del Sur   \n",
       "4         796011       Palacio  Hombre                     Apátridas   \n",
       "\n",
       "   poblacion_empadronada  \n",
       "0                    163  \n",
       "1                     83  \n",
       "2                    169  \n",
       "3                    384  \n",
       "4                      1  "
      ]
     },
     "execution_count": 2,
     "metadata": {},
     "output_type": "execute_result"
    }
   ],
   "source": [
    "df = pd.read_csv('../../Grupo5_Analisis/Data/USAR/3.1.Madrid.migracion.csv')\n",
    "df.head()"
   ]
  },
  {
   "cell_type": "code",
   "execution_count": 3,
   "metadata": {},
   "outputs": [
    {
     "name": "stdout",
     "output_type": "stream",
     "text": [
      "<class 'pandas.core.frame.DataFrame'>\n",
      "RangeIndex: 2560 entries, 0 to 2559\n",
      "Data columns (total 9 columns):\n",
      " #   Column                 Non-Null Count  Dtype \n",
      "---  ------                 --------------  ----- \n",
      " 0   municipio_codigo       2560 non-null   int64 \n",
      " 1   municipio_nombre       2560 non-null   object\n",
      " 2   distrito_codigo        2560 non-null   int64 \n",
      " 3   distrito_nombre        2560 non-null   object\n",
      " 4   barrio_codigo          2560 non-null   int64 \n",
      " 5   barrio_nombre          2560 non-null   object\n",
      " 6   sexo                   2560 non-null   object\n",
      " 7   nacionalidad           2560 non-null   object\n",
      " 8   poblacion_empadronada  2560 non-null   int64 \n",
      "dtypes: int64(4), object(5)\n",
      "memory usage: 180.1+ KB\n"
     ]
    }
   ],
   "source": [
    "df.info()"
   ]
  },
  {
   "cell_type": "code",
   "execution_count": 4,
   "metadata": {},
   "outputs": [
    {
     "data": {
      "text/html": [
       "<div>\n",
       "<style scoped>\n",
       "    .dataframe tbody tr th:only-of-type {\n",
       "        vertical-align: middle;\n",
       "    }\n",
       "\n",
       "    .dataframe tbody tr th {\n",
       "        vertical-align: top;\n",
       "    }\n",
       "\n",
       "    .dataframe thead th {\n",
       "        text-align: right;\n",
       "    }\n",
       "</style>\n",
       "<table border=\"1\" class=\"dataframe\">\n",
       "  <thead>\n",
       "    <tr style=\"text-align: right;\">\n",
       "      <th></th>\n",
       "      <th>municipio_codigo</th>\n",
       "      <th>distrito_codigo</th>\n",
       "      <th>barrio_codigo</th>\n",
       "      <th>poblacion_empadronada</th>\n",
       "    </tr>\n",
       "  </thead>\n",
       "  <tbody>\n",
       "    <tr>\n",
       "      <th>count</th>\n",
       "      <td>2560.0</td>\n",
       "      <td>2560.000000</td>\n",
       "      <td>2560.000000</td>\n",
       "      <td>2560.000000</td>\n",
       "    </tr>\n",
       "    <tr>\n",
       "      <th>mean</th>\n",
       "      <td>79.0</td>\n",
       "      <td>79610.507812</td>\n",
       "      <td>796108.843750</td>\n",
       "      <td>1243.351953</td>\n",
       "    </tr>\n",
       "    <tr>\n",
       "      <th>std</th>\n",
       "      <td>0.0</td>\n",
       "      <td>5.807914</td>\n",
       "      <td>58.087325</td>\n",
       "      <td>3952.810627</td>\n",
       "    </tr>\n",
       "    <tr>\n",
       "      <th>min</th>\n",
       "      <td>79.0</td>\n",
       "      <td>79601.000000</td>\n",
       "      <td>796011.000000</td>\n",
       "      <td>0.000000</td>\n",
       "    </tr>\n",
       "    <tr>\n",
       "      <th>25%</th>\n",
       "      <td>79.0</td>\n",
       "      <td>79606.000000</td>\n",
       "      <td>796061.750000</td>\n",
       "      <td>1.000000</td>\n",
       "    </tr>\n",
       "    <tr>\n",
       "      <th>50%</th>\n",
       "      <td>79.0</td>\n",
       "      <td>79610.000000</td>\n",
       "      <td>796106.500000</td>\n",
       "      <td>45.000000</td>\n",
       "    </tr>\n",
       "    <tr>\n",
       "      <th>75%</th>\n",
       "      <td>79.0</td>\n",
       "      <td>79615.000000</td>\n",
       "      <td>796155.250000</td>\n",
       "      <td>217.000000</td>\n",
       "    </tr>\n",
       "    <tr>\n",
       "      <th>max</th>\n",
       "      <td>79.0</td>\n",
       "      <td>79621.000000</td>\n",
       "      <td>796215.000000</td>\n",
       "      <td>38082.000000</td>\n",
       "    </tr>\n",
       "  </tbody>\n",
       "</table>\n",
       "</div>"
      ],
      "text/plain": [
       "       municipio_codigo  distrito_codigo  barrio_codigo  poblacion_empadronada\n",
       "count            2560.0      2560.000000    2560.000000            2560.000000\n",
       "mean               79.0     79610.507812  796108.843750            1243.351953\n",
       "std                 0.0         5.807914      58.087325            3952.810627\n",
       "min                79.0     79601.000000  796011.000000               0.000000\n",
       "25%                79.0     79606.000000  796061.750000               1.000000\n",
       "50%                79.0     79610.000000  796106.500000              45.000000\n",
       "75%                79.0     79615.000000  796155.250000             217.000000\n",
       "max                79.0     79621.000000  796215.000000           38082.000000"
      ]
     },
     "execution_count": 4,
     "metadata": {},
     "output_type": "execute_result"
    }
   ],
   "source": [
    "df.describe()"
   ]
  },
  {
   "cell_type": "code",
   "execution_count": 5,
   "metadata": {},
   "outputs": [
    {
     "data": {
      "text/plain": [
       "municipio_codigo         0\n",
       "municipio_nombre         0\n",
       "distrito_codigo          0\n",
       "distrito_nombre          0\n",
       "barrio_codigo            0\n",
       "barrio_nombre            0\n",
       "sexo                     0\n",
       "nacionalidad             0\n",
       "poblacion_empadronada    0\n",
       "dtype: int64"
      ]
     },
     "execution_count": 5,
     "metadata": {},
     "output_type": "execute_result"
    }
   ],
   "source": [
    "df.isnull().sum()"
   ]
  },
  {
   "cell_type": "code",
   "execution_count": 6,
   "metadata": {},
   "outputs": [
    {
     "data": {
      "text/plain": [
       "(2560, 9)"
      ]
     },
     "execution_count": 6,
     "metadata": {},
     "output_type": "execute_result"
    }
   ],
   "source": [
    "df.shape"
   ]
  }
 ],
 "metadata": {
  "kernelspec": {
   "display_name": "Python 3",
   "language": "python",
   "name": "python3"
  },
  "language_info": {
   "codemirror_mode": {
    "name": "ipython",
    "version": 3
   },
   "file_extension": ".py",
   "mimetype": "text/x-python",
   "name": "python",
   "nbconvert_exporter": "python",
   "pygments_lexer": "ipython3",
   "version": "3.10.11"
  },
  "orig_nbformat": 4
 },
 "nbformat": 4,
 "nbformat_minor": 2
}
