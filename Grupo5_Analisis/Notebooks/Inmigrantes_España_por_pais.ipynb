{
 "cells": [
  {
   "cell_type": "code",
   "execution_count": 1,
   "metadata": {},
   "outputs": [],
   "source": [
    "import matplotlib.pyplot as plt\n",
    "import numpy as np\n",
    "import pandas as pd\n",
    "\n"
   ]
  },
  {
   "cell_type": "code",
   "execution_count": 11,
   "metadata": {},
   "outputs": [
    {
     "data": {
      "text/html": [
       "<div>\n",
       "<style scoped>\n",
       "    .dataframe tbody tr th:only-of-type {\n",
       "        vertical-align: middle;\n",
       "    }\n",
       "\n",
       "    .dataframe tbody tr th {\n",
       "        vertical-align: top;\n",
       "    }\n",
       "\n",
       "    .dataframe thead th {\n",
       "        text-align: right;\n",
       "    }\n",
       "</style>\n",
       "<table border=\"1\" class=\"dataframe\">\n",
       "  <thead>\n",
       "    <tr style=\"text-align: right;\">\n",
       "      <th></th>\n",
       "      <th>Nacionalidad</th>\n",
       "      <th>Sexo</th>\n",
       "      <th>Total Nacional</th>\n",
       "      <th>Comunidades y Ciudades Autonomas</th>\n",
       "      <th>Año</th>\n",
       "      <th>Total</th>\n",
       "    </tr>\n",
       "  </thead>\n",
       "  <tbody>\n",
       "    <tr>\n",
       "      <th>0</th>\n",
       "      <td>Alemania</td>\n",
       "      <td>Hombres</td>\n",
       "      <td>Total Nacional</td>\n",
       "      <td>01 Andalucia</td>\n",
       "      <td>2022</td>\n",
       "      <td>8.083</td>\n",
       "    </tr>\n",
       "    <tr>\n",
       "      <th>1</th>\n",
       "      <td>Alemania</td>\n",
       "      <td>Hombres</td>\n",
       "      <td>Total Nacional</td>\n",
       "      <td>01 Andalucia</td>\n",
       "      <td>2021</td>\n",
       "      <td>7.502</td>\n",
       "    </tr>\n",
       "    <tr>\n",
       "      <th>2</th>\n",
       "      <td>Alemania</td>\n",
       "      <td>Hombres</td>\n",
       "      <td>Total Nacional</td>\n",
       "      <td>01 Andalucia</td>\n",
       "      <td>2020</td>\n",
       "      <td>7.660</td>\n",
       "    </tr>\n",
       "    <tr>\n",
       "      <th>3</th>\n",
       "      <td>Alemania</td>\n",
       "      <td>Hombres</td>\n",
       "      <td>Total Nacional</td>\n",
       "      <td>01 Andalucia</td>\n",
       "      <td>2019</td>\n",
       "      <td>7.695</td>\n",
       "    </tr>\n",
       "    <tr>\n",
       "      <th>4</th>\n",
       "      <td>Alemania</td>\n",
       "      <td>Hombres</td>\n",
       "      <td>Total Nacional</td>\n",
       "      <td>01 Andalucia</td>\n",
       "      <td>2018</td>\n",
       "      <td>7.639</td>\n",
       "    </tr>\n",
       "    <tr>\n",
       "      <th>5</th>\n",
       "      <td>Alemania</td>\n",
       "      <td>Hombres</td>\n",
       "      <td>Total Nacional</td>\n",
       "      <td>02 Aragon</td>\n",
       "      <td>2022</td>\n",
       "      <td>341.000</td>\n",
       "    </tr>\n",
       "    <tr>\n",
       "      <th>6</th>\n",
       "      <td>Alemania</td>\n",
       "      <td>Hombres</td>\n",
       "      <td>Total Nacional</td>\n",
       "      <td>02 Aragon</td>\n",
       "      <td>2021</td>\n",
       "      <td>325.000</td>\n",
       "    </tr>\n",
       "    <tr>\n",
       "      <th>7</th>\n",
       "      <td>Alemania</td>\n",
       "      <td>Hombres</td>\n",
       "      <td>Total Nacional</td>\n",
       "      <td>02 Aragon</td>\n",
       "      <td>2020</td>\n",
       "      <td>317.000</td>\n",
       "    </tr>\n",
       "    <tr>\n",
       "      <th>8</th>\n",
       "      <td>Alemania</td>\n",
       "      <td>Hombres</td>\n",
       "      <td>Total Nacional</td>\n",
       "      <td>02 Aragon</td>\n",
       "      <td>2019</td>\n",
       "      <td>304.000</td>\n",
       "    </tr>\n",
       "    <tr>\n",
       "      <th>9</th>\n",
       "      <td>Alemania</td>\n",
       "      <td>Hombres</td>\n",
       "      <td>Total Nacional</td>\n",
       "      <td>02 Aragon</td>\n",
       "      <td>2018</td>\n",
       "      <td>264.000</td>\n",
       "    </tr>\n",
       "  </tbody>\n",
       "</table>\n",
       "</div>"
      ],
      "text/plain": [
       "  Nacionalidad     Sexo  Total Nacional Comunidades y Ciudades Autonomas  \\\n",
       "0     Alemania  Hombres  Total Nacional                     01 Andalucia   \n",
       "1     Alemania  Hombres  Total Nacional                     01 Andalucia   \n",
       "2     Alemania  Hombres  Total Nacional                     01 Andalucia   \n",
       "3     Alemania  Hombres  Total Nacional                     01 Andalucia   \n",
       "4     Alemania  Hombres  Total Nacional                     01 Andalucia   \n",
       "5     Alemania  Hombres  Total Nacional                        02 Aragon   \n",
       "6     Alemania  Hombres  Total Nacional                        02 Aragon   \n",
       "7     Alemania  Hombres  Total Nacional                        02 Aragon   \n",
       "8     Alemania  Hombres  Total Nacional                        02 Aragon   \n",
       "9     Alemania  Hombres  Total Nacional                        02 Aragon   \n",
       "\n",
       "    Año    Total  \n",
       "0  2022    8.083  \n",
       "1  2021    7.502  \n",
       "2  2020    7.660  \n",
       "3  2019    7.695  \n",
       "4  2018    7.639  \n",
       "5  2022  341.000  \n",
       "6  2021  325.000  \n",
       "7  2020  317.000  \n",
       "8  2019  304.000  \n",
       "9  2018  264.000  "
      ]
     },
     "execution_count": 11,
     "metadata": {},
     "output_type": "execute_result"
    }
   ],
   "source": [
    "df = pd.read_csv('../../Grupo5_Analisis/Data/Inmigrantes España por pais, provincia, sexo, año 2018 a 2022.csv', delimiter=';')\n",
    "df.head(10)"
   ]
  },
  {
   "cell_type": "code",
   "execution_count": 12,
   "metadata": {},
   "outputs": [
    {
     "data": {
      "text/html": [
       "<div>\n",
       "<style scoped>\n",
       "    .dataframe tbody tr th:only-of-type {\n",
       "        vertical-align: middle;\n",
       "    }\n",
       "\n",
       "    .dataframe tbody tr th {\n",
       "        vertical-align: top;\n",
       "    }\n",
       "\n",
       "    .dataframe thead th {\n",
       "        text-align: right;\n",
       "    }\n",
       "</style>\n",
       "<table border=\"1\" class=\"dataframe\">\n",
       "  <thead>\n",
       "    <tr style=\"text-align: right;\">\n",
       "      <th></th>\n",
       "      <th>Nacionalidad</th>\n",
       "      <th>Sexo</th>\n",
       "      <th>Total Nacional</th>\n",
       "      <th>Comunidades y Ciudades Autonomas</th>\n",
       "      <th>Año</th>\n",
       "      <th>Total</th>\n",
       "    </tr>\n",
       "  </thead>\n",
       "  <tbody>\n",
       "    <tr>\n",
       "      <th>22795</th>\n",
       "      <td>Resto de Oceania</td>\n",
       "      <td>Mujeres</td>\n",
       "      <td>Total Nacional</td>\n",
       "      <td>19 Melilla</td>\n",
       "      <td>2022</td>\n",
       "      <td>0.0</td>\n",
       "    </tr>\n",
       "    <tr>\n",
       "      <th>22796</th>\n",
       "      <td>Resto de Oceania</td>\n",
       "      <td>Mujeres</td>\n",
       "      <td>Total Nacional</td>\n",
       "      <td>19 Melilla</td>\n",
       "      <td>2021</td>\n",
       "      <td>0.0</td>\n",
       "    </tr>\n",
       "    <tr>\n",
       "      <th>22797</th>\n",
       "      <td>Resto de Oceania</td>\n",
       "      <td>Mujeres</td>\n",
       "      <td>Total Nacional</td>\n",
       "      <td>19 Melilla</td>\n",
       "      <td>2020</td>\n",
       "      <td>0.0</td>\n",
       "    </tr>\n",
       "    <tr>\n",
       "      <th>22798</th>\n",
       "      <td>Resto de Oceania</td>\n",
       "      <td>Mujeres</td>\n",
       "      <td>Total Nacional</td>\n",
       "      <td>19 Melilla</td>\n",
       "      <td>2019</td>\n",
       "      <td>0.0</td>\n",
       "    </tr>\n",
       "    <tr>\n",
       "      <th>22799</th>\n",
       "      <td>Resto de Oceania</td>\n",
       "      <td>Mujeres</td>\n",
       "      <td>Total Nacional</td>\n",
       "      <td>19 Melilla</td>\n",
       "      <td>2018</td>\n",
       "      <td>0.0</td>\n",
       "    </tr>\n",
       "  </tbody>\n",
       "</table>\n",
       "</div>"
      ],
      "text/plain": [
       "           Nacionalidad     Sexo  Total Nacional  \\\n",
       "22795  Resto de Oceania  Mujeres  Total Nacional   \n",
       "22796  Resto de Oceania  Mujeres  Total Nacional   \n",
       "22797  Resto de Oceania  Mujeres  Total Nacional   \n",
       "22798  Resto de Oceania  Mujeres  Total Nacional   \n",
       "22799  Resto de Oceania  Mujeres  Total Nacional   \n",
       "\n",
       "      Comunidades y Ciudades Autonomas   Año  Total  \n",
       "22795                       19 Melilla  2022    0.0  \n",
       "22796                       19 Melilla  2021    0.0  \n",
       "22797                       19 Melilla  2020    0.0  \n",
       "22798                       19 Melilla  2019    0.0  \n",
       "22799                       19 Melilla  2018    0.0  "
      ]
     },
     "execution_count": 12,
     "metadata": {},
     "output_type": "execute_result"
    }
   ],
   "source": [
    "df.tail()"
   ]
  },
  {
   "cell_type": "code",
   "execution_count": 13,
   "metadata": {},
   "outputs": [
    {
     "data": {
      "text/html": [
       "<div>\n",
       "<style scoped>\n",
       "    .dataframe tbody tr th:only-of-type {\n",
       "        vertical-align: middle;\n",
       "    }\n",
       "\n",
       "    .dataframe tbody tr th {\n",
       "        vertical-align: top;\n",
       "    }\n",
       "\n",
       "    .dataframe thead th {\n",
       "        text-align: right;\n",
       "    }\n",
       "</style>\n",
       "<table border=\"1\" class=\"dataframe\">\n",
       "  <thead>\n",
       "    <tr style=\"text-align: right;\">\n",
       "      <th></th>\n",
       "      <th>Año</th>\n",
       "      <th>Total</th>\n",
       "    </tr>\n",
       "  </thead>\n",
       "  <tbody>\n",
       "    <tr>\n",
       "      <th>count</th>\n",
       "      <td>22800.000000</td>\n",
       "      <td>22800.000000</td>\n",
       "    </tr>\n",
       "    <tr>\n",
       "      <th>mean</th>\n",
       "      <td>2020.000000</td>\n",
       "      <td>111.880527</td>\n",
       "    </tr>\n",
       "    <tr>\n",
       "      <th>std</th>\n",
       "      <td>1.414245</td>\n",
       "      <td>204.721011</td>\n",
       "    </tr>\n",
       "    <tr>\n",
       "      <th>min</th>\n",
       "      <td>2018.000000</td>\n",
       "      <td>0.000000</td>\n",
       "    </tr>\n",
       "    <tr>\n",
       "      <th>25%</th>\n",
       "      <td>2019.000000</td>\n",
       "      <td>3.000000</td>\n",
       "    </tr>\n",
       "    <tr>\n",
       "      <th>50%</th>\n",
       "      <td>2020.000000</td>\n",
       "      <td>17.000000</td>\n",
       "    </tr>\n",
       "    <tr>\n",
       "      <th>75%</th>\n",
       "      <td>2021.000000</td>\n",
       "      <td>106.000000</td>\n",
       "    </tr>\n",
       "    <tr>\n",
       "      <th>max</th>\n",
       "      <td>2022.000000</td>\n",
       "      <td>999.000000</td>\n",
       "    </tr>\n",
       "  </tbody>\n",
       "</table>\n",
       "</div>"
      ],
      "text/plain": [
       "                Año         Total\n",
       "count  22800.000000  22800.000000\n",
       "mean    2020.000000    111.880527\n",
       "std        1.414245    204.721011\n",
       "min     2018.000000      0.000000\n",
       "25%     2019.000000      3.000000\n",
       "50%     2020.000000     17.000000\n",
       "75%     2021.000000    106.000000\n",
       "max     2022.000000    999.000000"
      ]
     },
     "execution_count": 13,
     "metadata": {},
     "output_type": "execute_result"
    }
   ],
   "source": [
    "df.describe()"
   ]
  },
  {
   "cell_type": "code",
   "execution_count": 14,
   "metadata": {},
   "outputs": [
    {
     "name": "stdout",
     "output_type": "stream",
     "text": [
      "<class 'pandas.core.frame.DataFrame'>\n",
      "RangeIndex: 22800 entries, 0 to 22799\n",
      "Data columns (total 6 columns):\n",
      " #   Column                            Non-Null Count  Dtype  \n",
      "---  ------                            --------------  -----  \n",
      " 0   Nacionalidad                      22800 non-null  object \n",
      " 1   Sexo                              22800 non-null  object \n",
      " 2   Total Nacional                    22800 non-null  object \n",
      " 3   Comunidades y Ciudades Autonomas  22800 non-null  object \n",
      " 4   Año                               22800 non-null  int64  \n",
      " 5   Total                             22800 non-null  float64\n",
      "dtypes: float64(1), int64(1), object(4)\n",
      "memory usage: 1.0+ MB\n"
     ]
    }
   ],
   "source": [
    "df.info()"
   ]
  },
  {
   "cell_type": "code",
   "execution_count": 15,
   "metadata": {},
   "outputs": [],
   "source": [
    "def calc_missing(df):\n",
    "    missing_columns = [col for col in df.columns if df[col].isnull().sum() > 0]\n",
    "    for col in missing_columns:\n",
    "        null_count = df[col].isnull().sum()\n",
    "        total_count = df.shape[0]\n",
    "        null_percent = (null_count / total_count) * 100\n",
    "        \n",
    "        print(f\"{col} {null_count} / {total_count} {null_percent:.2f} %\")\n",
    "        "
   ]
  },
  {
   "cell_type": "code",
   "execution_count": 16,
   "metadata": {},
   "outputs": [
    {
     "name": "stdout",
     "output_type": "stream",
     "text": [
      "<class 'pandas.core.frame.DataFrame'>\n",
      "RangeIndex: 22800 entries, 0 to 22799\n",
      "Data columns (total 6 columns):\n",
      " #   Column                            Non-Null Count  Dtype  \n",
      "---  ------                            --------------  -----  \n",
      " 0   Nacionalidad                      22800 non-null  object \n",
      " 1   Sexo                              22800 non-null  object \n",
      " 2   Total Nacional                    22800 non-null  object \n",
      " 3   Comunidades y Ciudades Autonomas  22800 non-null  object \n",
      " 4   Año                               22800 non-null  int64  \n",
      " 5   Total                             22800 non-null  float64\n",
      "dtypes: float64(1), int64(1), object(4)\n",
      "memory usage: 1.0+ MB\n"
     ]
    }
   ],
   "source": [
    "df.info()"
   ]
  },
  {
   "cell_type": "code",
   "execution_count": 17,
   "metadata": {},
   "outputs": [
    {
     "data": {
      "text/plain": [
       "Nacionalidad                        0\n",
       "Sexo                                0\n",
       "Total Nacional                      0\n",
       "Comunidades y Ciudades Autonomas    0\n",
       "Año                                 0\n",
       "Total                               0\n",
       "dtype: int64"
      ]
     },
     "execution_count": 17,
     "metadata": {},
     "output_type": "execute_result"
    }
   ],
   "source": [
    "df.isnull().sum()"
   ]
  },
  {
   "cell_type": "code",
   "execution_count": 18,
   "metadata": {},
   "outputs": [
    {
     "data": {
      "text/plain": [
       "[<matplotlib.lines.Line2D at 0x19dc0f4f880>]"
      ]
     },
     "execution_count": 18,
     "metadata": {},
     "output_type": "execute_result"
    },
    {
     "data": {
      "image/png": "[encoded data removed]",
      "text/plain": [
       "<Figure size 640x480 with 1 Axes>"
      ]
     },
     "metadata": {},
     "output_type": "display_data"
    }
   ],
   "source": [
    "plt.plot([1.5, 3.0])"
   ]
  }
 ],
 "metadata": {
  "kernelspec": {
   "display_name": "Python 3",
   "language": "python",
   "name": "python3"
  },
  "language_info": {
   "codemirror_mode": {
    "name": "ipython",
    "version": 3
   },
   "file_extension": ".py",
   "mimetype": "text/x-python",
   "name": "python",
   "nbconvert_exporter": "python",
   "pygments_lexer": "ipython3",
   "version": "3.10.11"
  },
  "orig_nbformat": 4
 },
 "nbformat": 4,
 "nbformat_minor": 2
}
