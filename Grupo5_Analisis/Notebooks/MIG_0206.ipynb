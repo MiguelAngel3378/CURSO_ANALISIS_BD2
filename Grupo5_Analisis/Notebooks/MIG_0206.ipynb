{
 "cells": [
  {
   "cell_type": "code",
   "execution_count": 12,
   "metadata": {},
   "outputs": [],
   "source": [
    "import matplotlib.animation as ani\n",
    "import matplotlib.pyplot as plt\n",
    "import numpy as np\n",
    "import pandas as pd\n",
    "\n",
    "import matplotlib.animation as ani\n"
   ]
  },
  {
   "cell_type": "code",
   "execution_count": 3,
   "metadata": {},
   "outputs": [
    {
     "ename": "AttributeError",
     "evalue": "'str' object has no attribute 'read_csv'",
     "output_type": "error",
     "traceback": [
      "\u001b[1;31m---------------------------------------------------------------------------\u001b[0m",
      "\u001b[1;31mAttributeError\u001b[0m                            Traceback (most recent call last)",
      "Cell \u001b[1;32mIn[3], line 2\u001b[0m\n\u001b[0;32m      1\u001b[0m pd \u001b[39m=\u001b[39m url \u001b[39m=\u001b[39m \u001b[39m'\u001b[39m\u001b[39mhttps://raw.githubusercontent.com/CSSEGISandData/COVID-19/master/csse_covid_19_data/csse_covid_19_time_series/time_series_covid19_deaths_global.csv\u001b[39m\u001b[39m'\u001b[39m\n\u001b[1;32m----> 2\u001b[0m df \u001b[39m=\u001b[39m pd\u001b[39m.\u001b[39;49mread_csv(url, delimiter\u001b[39m=\u001b[39m\u001b[39m'\u001b[39m\u001b[39m,\u001b[39m\u001b[39m'\u001b[39m, header\u001b[39m=\u001b[39m\u001b[39m'\u001b[39m\u001b[39minfer\u001b[39m\u001b[39m'\u001b[39m)\n\u001b[0;32m      3\u001b[0m df_interest \u001b[39m=\u001b[39m df\u001b[39m.\u001b[39mloc[\n\u001b[0;32m      4\u001b[0m     df[\u001b[39m'\u001b[39m\u001b[39mCountry/Region\u001b[39m\u001b[39m'\u001b[39m]\u001b[39m.\u001b[39misin([\u001b[39m'\u001b[39m\u001b[39mUnited Kingdom\u001b[39m\u001b[39m'\u001b[39m, \u001b[39m'\u001b[39m\u001b[39mUS\u001b[39m\u001b[39m'\u001b[39m, \u001b[39m'\u001b[39m\u001b[39mItaly\u001b[39m\u001b[39m'\u001b[39m, \u001b[39m'\u001b[39m\u001b[39mGermany\u001b[39m\u001b[39m'\u001b[39m])\n\u001b[0;32m      5\u001b[0m     \u001b[39m&\u001b[39m df[\u001b[39m'\u001b[39m\u001b[39mProvince/State\u001b[39m\u001b[39m'\u001b[39m]\u001b[39m.\u001b[39misna()]\n\u001b[0;32m      6\u001b[0m df_interest\u001b[39m.\u001b[39mrename(\n\u001b[0;32m      7\u001b[0m     index\u001b[39m=\u001b[39m\u001b[39mlambda\u001b[39;00m x: df_interest\u001b[39m.\u001b[39mat[x, \u001b[39m'\u001b[39m\u001b[39mCountry/Region\u001b[39m\u001b[39m'\u001b[39m], inplace\u001b[39m=\u001b[39m\u001b[39mTrue\u001b[39;00m)\n",
      "\u001b[1;31mAttributeError\u001b[0m: 'str' object has no attribute 'read_csv'"
     ]
    }
   ],
   "source": [
    "url = 'https://raw.githubusercontent.com/CSSEGISandData/COVID-19/master/csse_covid_19_data/csse_covid_19_time_series/time_series_covid19_deaths_global.csv'\n",
    "df = pd.read_csv(url, delimiter=',', header='infer')\n",
    "df_interest = df.loc[\n",
    "    df['Country/Region'].isin(['United Kingdom', 'US', 'Italy', 'Germany'])\n",
    "    & df['Province/State'].isna()]\n",
    "df_interest.rename(\n",
    "    index=lambda x: df_interest.at[x, 'Country/Region'], inplace=True)\n",
    "df1 = df_interest.transpose()\n",
    "df1 = df1.drop(['Province/State', 'Country/Region', 'Lat', 'Long'])\n",
    "df1 = df1.loc[(df1 != 0).any(1)]\n",
    "df1.index = pd.to_datetime(df1.index)"
   ]
  },
  {
   "cell_type": "code",
   "execution_count": null,
   "metadata": {},
   "outputs": [],
   "source": [
    "import numpy as np\n",
    "import matplotlib.pyplot as plt\n",
    "\n",
    "color = ['red', 'green', 'blue', 'orange']\n",
    "fig = plt.figure()\n",
    "plt.xticks(rotation=45, ha=\"right\", rotation_mode=\"anchor\") #rotate the x-axis values\n",
    "plt.subplots_adjust(bottom = 0.2, top = 0.9) #ensuring the dates (on the x-axis) fit in the screen\n",
    "plt.ylabel('No of Deaths')\n",
    "plt.xlabel('Dates')\n",
    "\n",
    "def buildmebarchart(i=int):\n",
    "    plt.legend(df1.columns)\n",
    "    p = plt.plot(df1[:i].index, df1[:i].values) #note it only returns the dataset, up to the point i\n",
    "    for i in range(0,4):\n",
    "        p[i].set_color(color[i]) #set the colour of each curve\n",
    "        \n",
    "import matplotlib.animation as ani\n",
    "animator = ani.FuncAnimation(fig, buildmebarchart, interval = 100)\n",
    "plt.show()\n",
    "\n",
    "fig,ax = plt.subplots()\n",
    "explode=[0.01,0.01,0.01,0.01] #pop out each slice from the pie\n",
    "def getmepie(i):\n",
    "    def absolute_value(val): #turn % back to a number\n",
    "        a  = np.round(val/100.*df1.head(i).max().sum(), 0)\n",
    "        return int(a)\n",
    "    ax.clear()\n",
    "    plot = df1.head(i).max().plot.pie(y=df1.columns,autopct=absolute_value, label='',explode = explode, shadow = True)\n",
    "    plot.set_title('Total Number of Deaths\\n' + str(df1.index[min( i, len(df1.index)-1 )].strftime('%y-%m-%d')), fontsize=12)\n",
    "    \n"
   ]
  }
 ],
 "metadata": {
  "kernelspec": {
   "display_name": "Python 3",
   "language": "python",
   "name": "python3"
  },
  "language_info": {
   "codemirror_mode": {
    "name": "ipython",
    "version": 3
   },
   "file_extension": ".py",
   "mimetype": "text/x-python",
   "name": "python",
   "nbconvert_exporter": "python",
   "pygments_lexer": "ipython3",
   "version": "3.10.11"
  },
  "orig_nbformat": 4
 },
 "nbformat": 4,
 "nbformat_minor": 2
}
