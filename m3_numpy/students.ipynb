{
 "cells": [
  {
   "cell_type": "code",
   "execution_count": 25,
   "metadata": {},
   "outputs": [],
   "source": [
    "import numpy as np\n"
   ]
  },
  {
   "cell_type": "code",
   "execution_count": 26,
   "metadata": {},
   "outputs": [
    {
     "data": {
      "text/plain": [
       "array([[-1, -1, -1, ..., 72, 72, 74],\n",
       "       [-1, -1, -1, ..., 69, 90, 88],\n",
       "       [-1, -1, -1, ..., 90, 95, 93],\n",
       "       ...,\n",
       "       [-1, -1, -1, ..., 59, 71, 65],\n",
       "       [-1, -1, -1, ..., 68, 78, 77],\n",
       "       [-1, -1, -1, ..., 77, 86, 86]])"
      ]
     },
     "execution_count": 26,
     "metadata": {},
     "output_type": "execute_result"
    }
   ],
   "source": [
    "dataset = np.genfromtxt('../data/StudentsPerformance.csv', delimiter=',', skip_header=1, dtype=int)\n",
    "dataset"
   ]
  },
  {
   "cell_type": "code",
   "execution_count": 27,
   "metadata": {},
   "outputs": [
    {
     "name": "stdout",
     "output_type": "stream",
     "text": [
      "2\n",
      "(1000, 8)\n"
     ]
    }
   ],
   "source": [
    "print(dataset.ndim)\n",
    "print(dataset.shape)"
   ]
  },
  {
   "cell_type": "code",
   "execution_count": 28,
   "metadata": {},
   "outputs": [],
   "source": [
    "write_scores = dataset[:, -1]\n",
    "read_scores = dataset[:, -2]\n",
    "math_scores = dataset[:, -3]"
   ]
  },
  {
   "cell_type": "code",
   "execution_count": 29,
   "metadata": {},
   "outputs": [
    {
     "data": {
      "text/plain": [
       "(1000,)"
      ]
     },
     "execution_count": 29,
     "metadata": {},
     "output_type": "execute_result"
    }
   ],
   "source": [
    "math_scores.shape"
   ]
  },
  {
   "attachments": {},
   "cell_type": "markdown",
   "metadata": {},
   "source": [
    "## OPERACIONES ARITMETICAS\n"
   ]
  },
  {
   "attachments": {},
   "cell_type": "markdown",
   "metadata": {},
   "source": [
    "SUMATORIO NOTAS"
   ]
  },
  {
   "cell_type": "code",
   "execution_count": 30,
   "metadata": {},
   "outputs": [
    {
     "data": {
      "text/plain": [
       "array([218, 247, 278, 148, 229, 232, 275, 122, 195, 148, 164, 135, 219,\n",
       "       220, 161, 222, 263,  78, 134, 173])"
      ]
     },
     "execution_count": 30,
     "metadata": {},
     "output_type": "execute_result"
    }
   ],
   "source": [
    "scores = write_scores + read_scores + math_scores\n",
    "scores[:20]"
   ]
  },
  {
   "cell_type": "code",
   "execution_count": 31,
   "metadata": {},
   "outputs": [
    {
     "data": {
      "text/plain": [
       "(1000,)"
      ]
     },
     "execution_count": 31,
     "metadata": {},
     "output_type": "execute_result"
    }
   ],
   "source": [
    "scores.shape"
   ]
  },
  {
   "attachments": {},
   "cell_type": "markdown",
   "metadata": {},
   "source": [
    "## NOTA MEDIA"
   ]
  },
  {
   "cell_type": "code",
   "execution_count": 32,
   "metadata": {},
   "outputs": [
    {
     "data": {
      "text/plain": [
       "array([73., 82., 93., 49., 76., 77., 92., 41., 65., 49., 55., 45., 73.,\n",
       "       73., 54., 74., 88., 26., 45., 58.])"
      ]
     },
     "execution_count": 32,
     "metadata": {},
     "output_type": "execute_result"
    }
   ],
   "source": [
    "final_scores = scores / 3\n",
    "final_scores = np.round(final_scores, 0)\n",
    "final_scores[:20]"
   ]
  },
  {
   "cell_type": "code",
   "execution_count": 33,
   "metadata": {},
   "outputs": [
    {
     "data": {
      "text/plain": [
       "dtype('float64')"
      ]
     },
     "execution_count": 33,
     "metadata": {},
     "output_type": "execute_result"
    }
   ],
   "source": [
    "final_scores.dtype"
   ]
  },
  {
   "cell_type": "code",
   "execution_count": 34,
   "metadata": {},
   "outputs": [
    {
     "data": {
      "text/plain": [
       "array([73, 82, 93, 49, 76, 77, 92, 41, 65, 49, 55, 45, 73, 73, 54, 74, 88,\n",
       "       26, 45, 58])"
      ]
     },
     "execution_count": 34,
     "metadata": {},
     "output_type": "execute_result"
    }
   ],
   "source": [
    "final_scores = final_scores.astype(int)\n",
    "final_scores[:20]"
   ]
  },
  {
   "cell_type": "code",
   "execution_count": 35,
   "metadata": {},
   "outputs": [
    {
     "data": {
      "text/plain": [
       "dtype('int32')"
      ]
     },
     "execution_count": 35,
     "metadata": {},
     "output_type": "execute_result"
    }
   ],
   "source": [
    "final_scores.dtype"
   ]
  },
  {
   "attachments": {},
   "cell_type": "markdown",
   "metadata": {},
   "source": [
    "## ORDENAR"
   ]
  },
  {
   "cell_type": "code",
   "execution_count": 36,
   "metadata": {},
   "outputs": [
    {
     "name": "stdout",
     "output_type": "stream",
     "text": [
      "Nota mas baja: 9\n",
      "Nota mas alta: 100\n"
     ]
    }
   ],
   "source": [
    "final_scores_asc = np.sort(final_scores)\n",
    "print(f\"Nota mas baja: {final_scores_asc[0]}\")\n",
    "print(f\"Nota mas alta: {final_scores_asc[-1]}\")"
   ]
  },
  {
   "attachments": {},
   "cell_type": "markdown",
   "metadata": {},
   "source": [
    "## FILTRAR DATOS"
   ]
  },
  {
   "cell_type": "code",
   "execution_count": 37,
   "metadata": {},
   "outputs": [],
   "source": [
    "success_scores = final_scores[final_scores >= 50]\n",
    "fail_scores = final_scores[final_scores < 50]"
   ]
  },
  {
   "cell_type": "code",
   "execution_count": 38,
   "metadata": {},
   "outputs": [
    {
     "name": "stdout",
     "output_type": "stream",
     "text": [
      "success: (900,)\n",
      "fail: (100,)\n"
     ]
    }
   ],
   "source": [
    "print(f\"success: {success_scores.shape}\")\n",
    "print(f\"fail: {fail_scores.shape}\")"
   ]
  },
  {
   "cell_type": "code",
   "execution_count": 39,
   "metadata": {},
   "outputs": [
    {
     "data": {
      "text/plain": [
       "(array([  3,   7,   9,  11,  17,  18,  33,  52,  55,  59,  61,  66,  72,\n",
       "         74,  75,  76,  80,  81,  84,  91,  93, 131, 136, 143, 145, 174,\n",
       "        182, 184, 188, 204, 211, 217, 231, 250, 262, 265, 280, 281, 284,\n",
       "        296, 298, 307, 324, 327, 329, 331, 337, 338, 363, 375, 383, 384,\n",
       "        395, 401, 424, 448, 455, 466, 527, 528, 552, 554, 555, 564, 565,\n",
       "        575, 596, 601, 616, 640, 683, 706, 723, 724, 729, 731, 733, 777,\n",
       "        785, 787, 794, 807, 810, 811, 840, 842, 858, 862, 867, 883, 889,\n",
       "        895, 896, 902, 910, 921, 928, 978, 980, 988], dtype=int64),)"
      ]
     },
     "execution_count": 39,
     "metadata": {},
     "output_type": "execute_result"
    }
   ],
   "source": [
    "fail_index = np.where(final_scores < 50)\n",
    "fail_index"
   ]
  },
  {
   "cell_type": "code",
   "execution_count": 40,
   "metadata": {},
   "outputs": [
    {
     "data": {
      "text/plain": [
       "array([49, 41, 49, 45, 26, 45, 40, 46, 39,  9, 37, 40, 47, 46, 41, 26, 49,\n",
       "       46, 38, 32, 46, 43, 49, 49, 31, 49, 49, 49, 48, 47, 30, 38, 44, 48,\n",
       "       48, 47, 49, 46, 43, 43, 45, 49, 43, 23, 49, 40, 48, 30, 31, 43, 44,\n",
       "       41, 45, 46, 38, 45, 47, 32, 44, 39, 46, 46, 35, 48, 45, 49, 23, 29,\n",
       "       40, 48, 38, 39, 47, 44, 43, 48, 49, 41, 42, 30, 48, 42, 39, 47, 46,\n",
       "       34, 49, 40, 48, 48, 48, 35, 31, 41, 47, 45, 44, 48, 18, 45])"
      ]
     },
     "execution_count": 40,
     "metadata": {},
     "output_type": "execute_result"
    }
   ],
   "source": [
    "final_scores[fail_index]"
   ]
  },
  {
   "attachments": {},
   "cell_type": "markdown",
   "metadata": {},
   "source": [
    "## ESTADISTICAS"
   ]
  },
  {
   "cell_type": "code",
   "execution_count": 41,
   "metadata": {},
   "outputs": [
    {
     "data": {
      "text/plain": [
       "41.82"
      ]
     },
     "execution_count": 41,
     "metadata": {},
     "output_type": "execute_result"
    }
   ],
   "source": [
    "np.mean(final_scores[fail_index])"
   ]
  },
  {
   "cell_type": "code",
   "execution_count": 42,
   "metadata": {},
   "outputs": [
    {
     "data": {
      "text/plain": [
       "70.64444444444445"
      ]
     },
     "execution_count": 42,
     "metadata": {},
     "output_type": "execute_result"
    }
   ],
   "source": [
    "np.mean(success_scores)"
   ]
  },
  {
   "attachments": {},
   "cell_type": "markdown",
   "metadata": {},
   "source": [
    "## VALORES CATEGORICOS"
   ]
  },
  {
   "cell_type": "code",
   "execution_count": 43,
   "metadata": {},
   "outputs": [],
   "source": [
    "import numpy as np"
   ]
  },
  {
   "cell_type": "code",
   "execution_count": null,
   "metadata": {},
   "outputs": [],
   "source": []
  }
 ],
 "metadata": {
  "kernelspec": {
   "display_name": "Python 3",
   "language": "python",
   "name": "python3"
  },
  "language_info": {
   "codemirror_mode": {
    "name": "ipython",
    "version": 3
   },
   "file_extension": ".py",
   "mimetype": "text/x-python",
   "name": "python",
   "nbconvert_exporter": "python",
   "pygments_lexer": "ipython3",
   "version": "3.10.11"
  },
  "orig_nbformat": 4
 },
 "nbformat": 4,
 "nbformat_minor": 2
}
