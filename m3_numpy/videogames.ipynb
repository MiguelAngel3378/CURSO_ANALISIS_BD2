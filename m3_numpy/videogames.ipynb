{
 "cells": [
  {
   "cell_type": "code",
   "execution_count": 1,
   "metadata": {},
   "outputs": [],
   "source": [
    "import numpy as np\n"
   ]
  },
  {
   "cell_type": "code",
   "execution_count": 12,
   "metadata": {},
   "outputs": [
    {
     "data": {
      "text/plain": [
       "array(['Wii Sports', 'Super Mario Bros.', 'Mario Kart Wii', ...,\n",
       "       'SCORE International Baja 1000: The Official Game', 'Know How 2',\n",
       "       'Spirits & Spells'], dtype='<U132')"
      ]
     },
     "execution_count": 12,
     "metadata": {},
     "output_type": "execute_result"
    }
   ],
   "source": [
    "np.genfromtxt('../data/vgsales.csv' , usecols=(1), dtype=str, skip_header=1, delimiter= ',')\n"
   ]
  },
  {
   "cell_type": "code",
   "execution_count": 13,
   "metadata": {},
   "outputs": [
    {
     "data": {
      "text/plain": [
       "(16598,)"
      ]
     },
     "execution_count": 13,
     "metadata": {},
     "output_type": "execute_result"
    }
   ],
   "source": [
    "names = np.genfromtxt('../data/vgsales.csv' , usecols=(1), dtype=str, skip_header=1, delimiter= ',')\n",
    "names.shape"
   ]
  },
  {
   "cell_type": "code",
   "execution_count": 14,
   "metadata": {},
   "outputs": [
    {
     "data": {
      "text/plain": [
       "array(['Wii Sports', 'Super Mario Bros.', 'Mario Kart Wii',\n",
       "       'Wii Sports Resort', 'Pokemon Red/Pokemon Blue'], dtype='<U132')"
      ]
     },
     "execution_count": 14,
     "metadata": {},
     "output_type": "execute_result"
    }
   ],
   "source": [
    "names = np.genfromtxt('../data/vgsales.csv' , usecols=(1), dtype=str, skip_header=1, delimiter= ',')\n",
    "names[:5]"
   ]
  },
  {
   "cell_type": "code",
   "execution_count": 15,
   "metadata": {},
   "outputs": [
    {
     "data": {
      "text/plain": [
       "(16598,)"
      ]
     },
     "execution_count": 15,
     "metadata": {},
     "output_type": "execute_result"
    }
   ],
   "source": [
    "platfrom = np.genfromtxt('../data/vgsales.csv' , usecols=(2), dtype=str, skip_header=1, delimiter= ',', invalid_raise=False)\n",
    "platfrom.shape"
   ]
  },
  {
   "cell_type": "code",
   "execution_count": 66,
   "metadata": {},
   "outputs": [
    {
     "data": {
      "text/plain": [
       "(16598,)"
      ]
     },
     "execution_count": 66,
     "metadata": {},
     "output_type": "execute_result"
    }
   ],
   "source": [
    "year = np.genfromtxt('../data/vgsales.csv' , usecols=(1), dtype=int, skip_header=1, delimiter= ',')\n",
    "year.shape"
   ]
  },
  {
   "cell_type": "code",
   "execution_count": 18,
   "metadata": {},
   "outputs": [
    {
     "data": {
      "text/plain": [
       "(16598,)"
      ]
     },
     "execution_count": 18,
     "metadata": {},
     "output_type": "execute_result"
    }
   ],
   "source": [
    "geners = np.genfromtxt('../data/vgsales.csv' , usecols=(1), dtype=str, skip_header=1, delimiter= ',')\n",
    "geners.shape"
   ]
  },
  {
   "cell_type": "code",
   "execution_count": 20,
   "metadata": {},
   "outputs": [
    {
     "data": {
      "text/plain": [
       "(16598,)"
      ]
     },
     "execution_count": 20,
     "metadata": {},
     "output_type": "execute_result"
    }
   ],
   "source": [
    "publishers = np.genfromtxt('../data/vgsales.csv' , usecols=(1), dtype=str, skip_header=1, delimiter= ',')\n",
    "publishers.shape"
   ]
  },
  {
   "cell_type": "code",
   "execution_count": 62,
   "metadata": {},
   "outputs": [
    {
     "data": {
      "text/plain": [
       "(16598, 4)"
      ]
     },
     "execution_count": 62,
     "metadata": {},
     "output_type": "execute_result"
    }
   ],
   "source": [
    "sales = np.genfromtxt('../data/vgsales.csv' , usecols=(6,7,8,9), dtype=float, skip_header=1, delimiter= ',')\n",
    "sales.shape"
   ]
  },
  {
   "attachments": {},
   "cell_type": "markdown",
   "metadata": {},
   "source": [
    "# CALCULAR VENTAS TOTALES"
   ]
  },
  {
   "cell_type": "code",
   "execution_count": 25,
   "metadata": {},
   "outputs": [
    {
     "data": {
      "text/plain": [
       "array([[41.49, 29.02,  3.77,  8.46],\n",
       "       [29.08,  3.58,  6.81,  0.77],\n",
       "       [15.85, 12.88,  3.79,  3.31],\n",
       "       ...,\n",
       "       [ 0.  ,  0.  ,  0.  ,  0.  ],\n",
       "       [ 0.  ,  0.01,  0.  ,  0.  ],\n",
       "       [ 0.01,  0.  ,  0.  ,  0.  ]])"
      ]
     },
     "execution_count": 25,
     "metadata": {},
     "output_type": "execute_result"
    }
   ],
   "source": [
    "np.set_printoptions(suppress=True)\n",
    "sales"
   ]
  },
  {
   "cell_type": "code",
   "execution_count": 68,
   "metadata": {},
   "outputs": [
    {
     "data": {
      "text/plain": [
       "(16598,)"
      ]
     },
     "execution_count": 68,
     "metadata": {},
     "output_type": "execute_result"
    }
   ],
   "source": [
    "np.sum(sales,axis=1).shape"
   ]
  },
  {
   "cell_type": "code",
   "execution_count": 26,
   "metadata": {},
   "outputs": [
    {
     "data": {
      "text/plain": [
       "array([82.74, 40.24, 35.83, ...,  0.  ,  0.01,  0.01])"
      ]
     },
     "execution_count": 26,
     "metadata": {},
     "output_type": "execute_result"
    }
   ],
   "source": [
    "np.sum(sales, axis=1)"
   ]
  },
  {
   "cell_type": "code",
   "execution_count": 27,
   "metadata": {},
   "outputs": [
    {
     "data": {
      "text/plain": [
       "array([82.74, 40.24, 35.83, ...,  0.  ,  0.01,  0.01])"
      ]
     },
     "execution_count": 27,
     "metadata": {},
     "output_type": "execute_result"
    }
   ],
   "source": [
    "total_sales = np.sum(sales, axis=1)\n",
    "total_sales"
   ]
  },
  {
   "cell_type": "code",
   "execution_count": 51,
   "metadata": {},
   "outputs": [],
   "source": [
    "import numpy as np"
   ]
  },
  {
   "cell_type": "code",
   "execution_count": 32,
   "metadata": {},
   "outputs": [
    {
     "data": {
      "text/plain": [
       "nan"
      ]
     },
     "execution_count": 32,
     "metadata": {},
     "output_type": "execute_result"
    }
   ],
   "source": [
    "np.mean(total_sales)"
   ]
  },
  {
   "attachments": {},
   "cell_type": "markdown",
   "metadata": {},
   "source": [
    "# DETECTAR SI HAY NAN (valores faltantes)"
   ]
  },
  {
   "cell_type": "code",
   "execution_count": 34,
   "metadata": {},
   "outputs": [
    {
     "data": {
      "text/plain": [
       "array([ True,  True,  True,  True,  True,  True,  True,  True,  True,\n",
       "        True,  True,  True,  True,  True,  True,  True,  True,  True,\n",
       "        True,  True,  True,  True,  True,  True,  True,  True,  True,\n",
       "        True,  True,  True,  True,  True,  True,  True,  True,  True,\n",
       "        True,  True,  True,  True,  True,  True,  True,  True,  True,\n",
       "        True,  True,  True,  True,  True,  True,  True,  True,  True,\n",
       "        True,  True,  True,  True,  True,  True,  True,  True,  True,\n",
       "        True,  True,  True,  True,  True,  True,  True,  True,  True,\n",
       "        True,  True,  True,  True,  True,  True,  True,  True,  True,\n",
       "        True,  True,  True,  True,  True,  True,  True,  True,  True,\n",
       "        True,  True,  True,  True,  True,  True,  True,  True,  True,\n",
       "        True,  True,  True,  True,  True,  True,  True,  True,  True,\n",
       "        True,  True,  True,  True,  True,  True,  True,  True,  True,\n",
       "        True,  True,  True,  True,  True,  True])"
      ]
     },
     "execution_count": 34,
     "metadata": {},
     "output_type": "execute_result"
    }
   ],
   "source": [
    "isnam = np.isnan(total_sales)\n",
    "isnam[isnam== True]"
   ]
  },
  {
   "cell_type": "code",
   "execution_count": 38,
   "metadata": {},
   "outputs": [
    {
     "name": "stdout",
     "output_type": "stream",
     "text": [
      "Hay Nan: True\n",
      "Hay Infinito: False\n",
      "Hay Infinito Negativo: False\n"
     ]
    }
   ],
   "source": [
    "print(f\"Hay Nan: {np.isnan(total_sales).any()}\")\n",
    "print(f\"Hay Infinito: {np.isinf(total_sales).any()}\")\n",
    "print(f\"Hay Infinito Negativo: {np.isneginf(total_sales).any()}\")"
   ]
  },
  {
   "cell_type": "code",
   "execution_count": 39,
   "metadata": {},
   "outputs": [
    {
     "data": {
      "text/plain": [
       "123"
      ]
     },
     "execution_count": 39,
     "metadata": {},
     "output_type": "execute_result"
    }
   ],
   "source": [
    "# CONTAR CUANTOS HAY (NAN)\n",
    "len(total_sales[np.isnan(total_sales)])"
   ]
  },
  {
   "cell_type": "code",
   "execution_count": 42,
   "metadata": {},
   "outputs": [
    {
     "name": "stdout",
     "output_type": "stream",
     "text": [
      "16598\n",
      "False\n"
     ]
    }
   ],
   "source": [
    "# REEMPLAZAR NAN x CERO\n",
    "total_sales2 = np.nan_to_num(total_sales, nan=0)\n",
    "print(f\"{len(total_sales2)}\")\n",
    "print(f\"{np.isnan(total_sales2).any()}\") # FALSE\n"
   ]
  },
  {
   "cell_type": "code",
   "execution_count": 43,
   "metadata": {},
   "outputs": [
    {
     "data": {
      "text/plain": [
       "False"
      ]
     },
     "execution_count": 43,
     "metadata": {},
     "output_type": "execute_result"
    }
   ],
   "source": [
    "# CALCULAR LA MEDIA DEL TOTAL_SALES SIN NAM\n",
    "total_sales_3 = np.nansum(sales, axis=1)\n",
    "np.isnan(total_sales_3).any()"
   ]
  },
  {
   "cell_type": "code",
   "execution_count": 46,
   "metadata": {},
   "outputs": [
    {
     "name": "stdout",
     "output_type": "stream",
     "text": [
      "8886.029999999999\n"
     ]
    }
   ],
   "source": [
    "print(f\"{np.nansum(total_sales)}\")"
   ]
  },
  {
   "cell_type": "code",
   "execution_count": 64,
   "metadata": {},
   "outputs": [
    {
     "name": "stdout",
     "output_type": "stream",
     "text": [
      "16598\n",
      "False\n"
     ]
    }
   ],
   "source": [
    "# Reemplazar por 0 o -1\n",
    "total_sales2 = np.nan_to_num(total_sales, nan=0)\n",
    "print(f\"{len(total_sales2)}\")\n",
    "print(f\"{np.isnan(total_sales2).any()}\") # False"
   ]
  },
  {
   "cell_type": "code",
   "execution_count": 56,
   "metadata": {},
   "outputs": [
    {
     "name": "stdout",
     "output_type": "stream",
     "text": [
      "(16598, 4)\n",
      "True\n"
     ]
    }
   ],
   "source": [
    "print(sales.shape)\n",
    "print(np.isnan(sales).any()) # True significa que hay nulos"
   ]
  },
  {
   "cell_type": "code",
   "execution_count": 57,
   "metadata": {},
   "outputs": [],
   "source": [
    "# Calcular la media de cada columna ignorando los NaN\n",
    "mean_per_column = np.nanmean(sales, axis=0)\n",
    "\n",
    "# Crear una máscara booleana de los NaN en el array\n",
    "mask = np.isnan(sales) # Array de 4 columnas mask[:, 3]\n",
    "\n",
    "# Usar la máscara para reemplazar los NaN con la media de la columna correspondiente\n",
    "# shape: (16598, 4). shape[1] \n",
    "#           0    1\n",
    "for i in range(sales.shape[1]): # 0, 1, 2, 3\n",
    "    sales[mask[:, i], i] = mean_per_column[i]"
   ]
  },
  {
   "cell_type": "code",
   "execution_count": 67,
   "metadata": {},
   "outputs": [
    {
     "name": "stdout",
     "output_type": "stream",
     "text": [
      "(16598, 4)\n",
      "True\n"
     ]
    }
   ],
   "source": [
    "print(sales.shape)\n",
    "print(np.isnan(sales).any()) # False significa que no hay nan"
   ]
  },
  {
   "cell_type": "code",
   "execution_count": 69,
   "metadata": {},
   "outputs": [
    {
     "data": {
      "text/plain": [
       "array(['Monster Strike 3DS', '\"Hanayaka Kana', '\"Warhammer 40',\n",
       "       '\"SpongeBob SquarePants: Lights', '\"SpongeBob SquarePants: Lights',\n",
       "       '\"The Chronicles of Narnia: The Lion', '\"Barbie: Jet',\n",
       "       '\"999: Nine Hours', '\"Hi! Hamtaro - Little Hamsters',\n",
       "       '\"Horrid Henry: The Good'], dtype='<U132')"
      ]
     },
     "execution_count": 69,
     "metadata": {},
     "output_type": "execute_result"
    }
   ],
   "source": [
    "indices = np.argsort(total_sales)[::-1]\n",
    "names[indices][:10]"
   ]
  }
 ],
 "metadata": {
  "kernelspec": {
   "display_name": "Python 3",
   "language": "python",
   "name": "python3"
  },
  "language_info": {
   "codemirror_mode": {
    "name": "ipython",
    "version": 3
   },
   "file_extension": ".py",
   "mimetype": "text/x-python",
   "name": "python",
   "nbconvert_exporter": "python",
   "pygments_lexer": "ipython3",
   "version": "3.10.11"
  },
  "orig_nbformat": 4
 },
 "nbformat": 4,
 "nbformat_minor": 2
}
