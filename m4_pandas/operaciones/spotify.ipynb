{
 "cells": [
  {
   "attachments": {},
   "cell_type": "markdown",
   "metadata": {},
   "source": [
    "# SPOTIFY\n",
    "  leer todos los CSV de una carpeta y cargarlos en un unico dataframe de pandas\n",
    "  \n",
    "  este enfoque sirve cuando tienen la misma estructura de columnas pero solo \n",
    "  cambia las fechas"
   ]
  },
  {
   "cell_type": "code",
   "execution_count": 3,
   "metadata": {},
   "outputs": [],
   "source": [
    "import pandas as pd\n",
    "import os"
   ]
  },
  {
   "cell_type": "code",
   "execution_count": 5,
   "metadata": {},
   "outputs": [
    {
     "data": {
      "text/plain": [
       "['1950.csv',\n",
       " '1960.csv',\n",
       " '1970.csv',\n",
       " '1980.csv',\n",
       " '1990.csv',\n",
       " '2000.csv',\n",
       " '2010.csv']"
      ]
     },
     "execution_count": 5,
     "metadata": {},
     "output_type": "execute_result"
    }
   ],
   "source": [
    "file_names = os.listdir('../../data/spotify/')\n",
    "file_names"
   ]
  },
  {
   "cell_type": "code",
   "execution_count": 7,
   "metadata": {},
   "outputs": [
    {
     "name": "stdout",
     "output_type": "stream",
     "text": [
      "1950.csv (73, 15)\n",
      "1960.csv (97, 15)\n",
      "1970.csv (104, 15)\n",
      "1980.csv (104, 15)\n",
      "1990.csv (104, 15)\n",
      "2000.csv (100, 15)\n",
      "2010.csv (100, 15)\n"
     ]
    }
   ],
   "source": [
    "df = pd.DataFrame()\n",
    "for file_name in file_names:\n",
    "    df_current = pd.read_csv ('../../data/spotify/'+ file_name)\n",
    "    print(file_name, df_current.shape)\n",
    "    df = pd.concat([df, df_current], ignore_index=True)"
   ]
  },
  {
   "cell_type": "code",
   "execution_count": 9,
   "metadata": {},
   "outputs": [
    {
     "data": {
      "text/plain": [
       "(682, 15)"
      ]
     },
     "execution_count": 9,
     "metadata": {},
     "output_type": "execute_result"
    }
   ],
   "source": [
    "df.shape"
   ]
  }
 ],
 "metadata": {
  "kernelspec": {
   "display_name": "Python 3",
   "language": "python",
   "name": "python3"
  },
  "language_info": {
   "codemirror_mode": {
    "name": "ipython",
    "version": 3
   },
   "file_extension": ".py",
   "mimetype": "text/x-python",
   "name": "python",
   "nbconvert_exporter": "python",
   "pygments_lexer": "ipython3",
   "version": "3.10.11"
  },
  "orig_nbformat": 4
 },
 "nbformat": 4,
 "nbformat_minor": 2
}
